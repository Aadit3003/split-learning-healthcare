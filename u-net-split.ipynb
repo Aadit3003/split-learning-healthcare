{
 "cells": [
  {
   "cell_type": "markdown",
   "id": "929e2fef",
   "metadata": {
    "papermill": {
     "duration": 0.014476,
     "end_time": "2023-04-03T08:30:36.495420",
     "exception": false,
     "start_time": "2023-04-03T08:30:36.480944",
     "status": "completed"
    },
    "tags": []
   },
   "source": [
    "# Libraries"
   ]
  },
  {
   "cell_type": "code",
   "execution_count": 1,
   "id": "bdcfea45",
   "metadata": {
    "execution": {
     "iopub.execute_input": "2023-04-03T08:30:36.524622Z",
     "iopub.status.busy": "2023-04-03T08:30:36.524220Z",
     "iopub.status.idle": "2023-04-03T08:30:40.892686Z",
     "shell.execute_reply": "2023-04-03T08:30:40.891679Z"
    },
    "papermill": {
     "duration": 4.386215,
     "end_time": "2023-04-03T08:30:40.895391",
     "exception": false,
     "start_time": "2023-04-03T08:30:36.509176",
     "status": "completed"
    },
    "tags": []
   },
   "outputs": [],
   "source": [
    "import numpy as np\n",
    "import pandas as pd\n",
    "import cv2\n",
    "import matplotlib.pyplot as plt\n",
    "from PIL import Image\n",
    "import os\n",
    "from glob import glob\n",
    "from tqdm import tqdm\n",
    "from torchvision import transforms\n",
    "import torch\n",
    "import torchvision\n",
    "from torch.utils.data import Dataset, DataLoader\n",
    "from sklearn.model_selection import train_test_split\n",
    "import albumentations as A\n",
    "from albumentations.pytorch import ToTensorV2\n",
    "import time\n",
    "import sys\n",
    "from operator import add\n",
    "\n",
    "from torch.autograd import Variable\n",
    "%matplotlib inline"
   ]
  },
  {
   "cell_type": "code",
   "execution_count": 2,
   "id": "14cc8366",
   "metadata": {
    "execution": {
     "iopub.execute_input": "2023-04-03T08:30:40.925159Z",
     "iopub.status.busy": "2023-04-03T08:30:40.924709Z",
     "iopub.status.idle": "2023-04-03T08:30:40.930488Z",
     "shell.execute_reply": "2023-04-03T08:30:40.929582Z"
    },
    "papermill": {
     "duration": 0.022357,
     "end_time": "2023-04-03T08:30:40.932668",
     "exception": false,
     "start_time": "2023-04-03T08:30:40.910311",
     "status": "completed"
    },
    "tags": []
   },
   "outputs": [],
   "source": [
    "import torch.nn as nn\n",
    "import torch.nn.functional as F\n",
    "\n",
    "import time\n",
    "import os\n",
    "import datetime\n",
    "import pytz\n",
    "import random"
   ]
  },
  {
   "cell_type": "code",
   "execution_count": 3,
   "id": "6721cb9e",
   "metadata": {
    "execution": {
     "iopub.execute_input": "2023-04-03T08:30:40.960361Z",
     "iopub.status.busy": "2023-04-03T08:30:40.960094Z",
     "iopub.status.idle": "2023-04-03T08:30:40.964353Z",
     "shell.execute_reply": "2023-04-03T08:30:40.963365Z"
    },
    "papermill": {
     "duration": 0.020475,
     "end_time": "2023-04-03T08:30:40.966453",
     "exception": false,
     "start_time": "2023-04-03T08:30:40.945978",
     "status": "completed"
    },
    "tags": []
   },
   "outputs": [],
   "source": [
    "from sklearn.metrics import accuracy_score, f1_score, jaccard_score, precision_score, recall_score"
   ]
  },
  {
   "cell_type": "markdown",
   "id": "b3215015",
   "metadata": {
    "papermill": {
     "duration": 0.012927,
     "end_time": "2023-04-03T08:30:40.992626",
     "exception": false,
     "start_time": "2023-04-03T08:30:40.979699",
     "status": "completed"
    },
    "tags": []
   },
   "source": [
    "## Constants"
   ]
  },
  {
   "cell_type": "code",
   "execution_count": 4,
   "id": "f0fb9df9",
   "metadata": {
    "execution": {
     "iopub.execute_input": "2023-04-03T08:30:41.021195Z",
     "iopub.status.busy": "2023-04-03T08:30:41.020321Z",
     "iopub.status.idle": "2023-04-03T08:30:41.025599Z",
     "shell.execute_reply": "2023-04-03T08:30:41.024716Z"
    },
    "papermill": {
     "duration": 0.021482,
     "end_time": "2023-04-03T08:30:41.027635",
     "exception": false,
     "start_time": "2023-04-03T08:30:41.006153",
     "status": "completed"
    },
    "tags": []
   },
   "outputs": [],
   "source": [
    "num_clients = 1\n",
    "cut_layer = 1\n",
    "train_images = 20\n",
    "epochs = 10\n",
    "batch_size = 8\n",
    "lr = 1e-4\n",
    "\n",
    "subset_mode = False\n",
    "mod = True"
   ]
  },
  {
   "cell_type": "markdown",
   "id": "915fc3b9",
   "metadata": {
    "papermill": {
     "duration": 0.013018,
     "end_time": "2023-04-03T08:30:41.054009",
     "exception": false,
     "start_time": "2023-04-03T08:30:41.040991",
     "status": "completed"
    },
    "tags": []
   },
   "source": [
    "## Paths"
   ]
  },
  {
   "cell_type": "code",
   "execution_count": 5,
   "id": "97c42f9a",
   "metadata": {
    "execution": {
     "iopub.execute_input": "2023-04-03T08:30:41.082893Z",
     "iopub.status.busy": "2023-04-03T08:30:41.081469Z",
     "iopub.status.idle": "2023-04-03T08:30:41.088069Z",
     "shell.execute_reply": "2023-04-03T08:30:41.087083Z"
    },
    "papermill": {
     "duration": 0.023535,
     "end_time": "2023-04-03T08:30:41.090898",
     "exception": false,
     "start_time": "2023-04-03T08:30:41.067363",
     "status": "completed"
    },
    "tags": []
   },
   "outputs": [
    {
     "name": "stdout",
     "output_type": "stream",
     "text": [
      "unet_split_cut_layer_1_20_images_10_epochs\n"
     ]
    }
   ],
   "source": [
    "images_PATH = '../input/chest-xray-masks-and-labels/Lung Segmentation/'\n",
    "# image_path_test = '../input/chest-xray-masks-and-labels/Lung Segmentation/test/' \n",
    "checkpoint_PATH = 'unet_split'\n",
    "checkpoint_PATH = checkpoint_PATH + \"_\" + \"cut_layer_\" + str(cut_layer) + \"_\" + str(train_images) + \"_images_\" + str(epochs) + \"_epochs\" \n",
    "print(checkpoint_PATH)\n",
    "results_PATH = './'"
   ]
  },
  {
   "cell_type": "markdown",
   "id": "5f788fb3",
   "metadata": {
    "papermill": {
     "duration": 0.012985,
     "end_time": "2023-04-03T08:30:41.118396",
     "exception": false,
     "start_time": "2023-04-03T08:30:41.105411",
     "status": "completed"
    },
    "tags": []
   },
   "source": [
    "## Transforms"
   ]
  },
  {
   "cell_type": "code",
   "execution_count": 6,
   "id": "6ce76eef",
   "metadata": {
    "execution": {
     "iopub.execute_input": "2023-04-03T08:30:41.146872Z",
     "iopub.status.busy": "2023-04-03T08:30:41.146601Z",
     "iopub.status.idle": "2023-04-03T08:30:41.152840Z",
     "shell.execute_reply": "2023-04-03T08:30:41.151775Z"
    },
    "papermill": {
     "duration": 0.022603,
     "end_time": "2023-04-03T08:30:41.154807",
     "exception": false,
     "start_time": "2023-04-03T08:30:41.132204",
     "status": "completed"
    },
    "tags": []
   },
   "outputs": [],
   "source": [
    "mean0_1, std0_1 = [0.0, 0.0, 0.0], [1.0, 1.0, 1.0]\n",
    "mean_imgnet, std_imgnet = [0.485, 0.456, 0.406], [0.229, 0.224, 0.225]\n",
    "mean1_1gray, std1_1gray = [0.5, ], [0.5, ]\n",
    "dim = 256\n",
    "\n",
    "image_tfms = transforms.Compose([\n",
    "    transforms.Resize((dim, dim)),\n",
    "    transforms.ToTensor(),\n",
    "    transforms.Normalize(mean = mean1_1gray, \n",
    "                         std = std1_1gray)\n",
    "])\n",
    "\n",
    "mask_tfms = transforms.Compose([\n",
    "    transforms.Resize((dim, dim)),\n",
    "    transforms.ToTensor()\n",
    "])"
   ]
  },
  {
   "cell_type": "markdown",
   "id": "b3df7779",
   "metadata": {
    "papermill": {
     "duration": 0.013169,
     "end_time": "2023-04-03T08:30:41.181665",
     "exception": false,
     "start_time": "2023-04-03T08:30:41.168496",
     "status": "completed"
    },
    "tags": []
   },
   "source": [
    "# Load Data, Trainloader"
   ]
  },
  {
   "cell_type": "code",
   "execution_count": 7,
   "id": "2008735b",
   "metadata": {
    "execution": {
     "iopub.execute_input": "2023-04-03T08:30:41.209602Z",
     "iopub.status.busy": "2023-04-03T08:30:41.208940Z",
     "iopub.status.idle": "2023-04-03T08:30:41.354318Z",
     "shell.execute_reply": "2023-04-03T08:30:41.353413Z"
    },
    "papermill": {
     "duration": 0.161692,
     "end_time": "2023-04-03T08:30:41.356445",
     "exception": false,
     "start_time": "2023-04-03T08:30:41.194753",
     "status": "completed"
    },
    "tags": []
   },
   "outputs": [],
   "source": [
    "images = os.listdir(images_PATH+'CXR_png/')\n",
    "mask = os.listdir(images_PATH+'masks/')\n",
    "mask = [fName.split(\".png\")[0] for fName in mask]\n",
    "image_file_name = [fName.split(\"_mask\")[0] for fName in mask]\n",
    "\n",
    "check = [i for i in mask if \"mask\" in i]"
   ]
  },
  {
   "cell_type": "code",
   "execution_count": 8,
   "id": "4d55d351",
   "metadata": {
    "execution": {
     "iopub.execute_input": "2023-04-03T08:30:41.386131Z",
     "iopub.status.busy": "2023-04-03T08:30:41.385290Z",
     "iopub.status.idle": "2023-04-03T08:30:41.391842Z",
     "shell.execute_reply": "2023-04-03T08:30:41.390973Z"
    },
    "papermill": {
     "duration": 0.02307,
     "end_time": "2023-04-03T08:30:41.393970",
     "exception": false,
     "start_time": "2023-04-03T08:30:41.370900",
     "status": "completed"
    },
    "tags": []
   },
   "outputs": [],
   "source": [
    "testing_files = set(os.listdir(images_PATH+'CXR_png/')) & set(os.listdir(images_PATH+'masks/'))\n",
    "training_files = check"
   ]
  },
  {
   "cell_type": "markdown",
   "id": "e4931d23",
   "metadata": {
    "papermill": {
     "duration": 0.013292,
     "end_time": "2023-04-03T08:30:41.420797",
     "exception": false,
     "start_time": "2023-04-03T08:30:41.407505",
     "status": "completed"
    },
    "tags": []
   },
   "source": [
    "## Dataset Class"
   ]
  },
  {
   "cell_type": "code",
   "execution_count": 9,
   "id": "114767f6",
   "metadata": {
    "execution": {
     "iopub.execute_input": "2023-04-03T08:30:41.449130Z",
     "iopub.status.busy": "2023-04-03T08:30:41.448285Z",
     "iopub.status.idle": "2023-04-03T08:30:41.457732Z",
     "shell.execute_reply": "2023-04-03T08:30:41.456869Z"
    },
    "papermill": {
     "duration": 0.025997,
     "end_time": "2023-04-03T08:30:41.460012",
     "exception": false,
     "start_time": "2023-04-03T08:30:41.434015",
     "status": "completed"
    },
    "tags": []
   },
   "outputs": [],
   "source": [
    "class SegmentationDS(Dataset):\n",
    "    \"\"\" create dataset by using image path and their labels \"\"\"\n",
    "    def __init__ (self, path, files, flag = \"MONT\", transform = (None, None)):\n",
    "        self.path = images_PATH\n",
    "        self.files = files\n",
    "        self.flag = flag\n",
    "        self.transform = transform\n",
    "\n",
    "        \n",
    "    def __len__(self):\n",
    "        return len (self.files)\n",
    "\n",
    "    def __getitem__(self, index):\n",
    "        \n",
    "        f = sorted(list(self.files))\n",
    "        if self.flag == \"MONT\":    \n",
    "            image = Image.open(os.path.join(self.path, \"CXR_png\", f[index])).convert('L')\n",
    "            mask = Image.open(os.path.join(self.path, \"masks\", f[index])).convert('L')\n",
    "\n",
    "        elif self.flag == \"SHEN\":\n",
    "            image = Image.open(os.path.join(self.path, \"CXR_png\", f[index].split(\"_mask\")[0] + \".png\")).convert('L')\n",
    "            mask = Image.open(os.path.join(self.path, \"masks\", f[index] + \".png\")).convert('L')\n",
    "\n",
    "\n",
    "        if self.transform != (None, None):\n",
    "            image = self.transform[0](image)\n",
    "            mask = self.transform[1](mask)\n",
    "            \n",
    "        return image, mask"
   ]
  },
  {
   "cell_type": "code",
   "execution_count": 10,
   "id": "c4ae177a",
   "metadata": {
    "execution": {
     "iopub.execute_input": "2023-04-03T08:30:41.487838Z",
     "iopub.status.busy": "2023-04-03T08:30:41.487579Z",
     "iopub.status.idle": "2023-04-03T08:30:41.491840Z",
     "shell.execute_reply": "2023-04-03T08:30:41.490893Z"
    },
    "papermill": {
     "duration": 0.020622,
     "end_time": "2023-04-03T08:30:41.493855",
     "exception": false,
     "start_time": "2023-04-03T08:30:41.473233",
     "status": "completed"
    },
    "tags": []
   },
   "outputs": [],
   "source": [
    "Mont_ds = SegmentationDS(images_PATH, testing_files, flag = \"MONT\", transform = (image_tfms, mask_tfms))\n",
    "Shen_ds = SegmentationDS(images_PATH, training_files, flag = \"SHEN\", transform = (image_tfms, mask_tfms))"
   ]
  },
  {
   "cell_type": "code",
   "execution_count": 11,
   "id": "44d33ff2",
   "metadata": {
    "execution": {
     "iopub.execute_input": "2023-04-03T08:30:41.523476Z",
     "iopub.status.busy": "2023-04-03T08:30:41.523213Z",
     "iopub.status.idle": "2023-04-03T08:30:41.531099Z",
     "shell.execute_reply": "2023-04-03T08:30:41.529967Z"
    },
    "papermill": {
     "duration": 0.026018,
     "end_time": "2023-04-03T08:30:41.533301",
     "exception": false,
     "start_time": "2023-04-03T08:30:41.507283",
     "status": "completed"
    },
    "tags": []
   },
   "outputs": [
    {
     "name": "stdout",
     "output_type": "stream",
     "text": [
      "<class '__main__.SegmentationDS'>\n"
     ]
    },
    {
     "data": {
      "text/plain": [
       "(138, 566)"
      ]
     },
     "execution_count": 11,
     "metadata": {},
     "output_type": "execute_result"
    }
   ],
   "source": [
    "print(type(Mont_ds))\n",
    "len(Mont_ds), len(Shen_ds)"
   ]
  },
  {
   "cell_type": "code",
   "execution_count": 12,
   "id": "69b95766",
   "metadata": {
    "execution": {
     "iopub.execute_input": "2023-04-03T08:30:41.562301Z",
     "iopub.status.busy": "2023-04-03T08:30:41.562007Z",
     "iopub.status.idle": "2023-04-03T08:30:41.568658Z",
     "shell.execute_reply": "2023-04-03T08:30:41.567591Z"
    },
    "papermill": {
     "duration": 0.02351,
     "end_time": "2023-04-03T08:30:41.570723",
     "exception": false,
     "start_time": "2023-04-03T08:30:41.547213",
     "status": "completed"
    },
    "tags": []
   },
   "outputs": [],
   "source": [
    "def imshow (img, mean_set, std_set):\n",
    "    \"\"\" visualize torch tensor image \"\"\"\n",
    "    \n",
    "    if img.shape[0] == 3:\n",
    "        img = img.numpy ().transpose (1, 2, 0)\n",
    "        mean = mean_set\n",
    "        std = std_set\n",
    "        img = img * std + mean\n",
    "        img = np.clip (img, 0, 1)\n",
    "        plt.figure (figsize = (5, 5))\n",
    "        plt.imshow (img)\n",
    "        \n",
    "    elif img.shape[0] == 1:\n",
    "        img = img.numpy ().transpose (1, 2, 0)\n",
    "        mean = mean_set\n",
    "        std = std_set\n",
    "        img = img * std + mean\n",
    "        img = np.clip (img, 0, 1)\n",
    "    \n",
    "        plt.figure (figsize = (5, 5))\n",
    "        plt.imshow (img,cmap='gray')"
   ]
  },
  {
   "cell_type": "code",
   "execution_count": 13,
   "id": "936d5392",
   "metadata": {
    "execution": {
     "iopub.execute_input": "2023-04-03T08:30:41.600542Z",
     "iopub.status.busy": "2023-04-03T08:30:41.599716Z",
     "iopub.status.idle": "2023-04-03T08:30:42.833991Z",
     "shell.execute_reply": "2023-04-03T08:30:42.832883Z"
    },
    "papermill": {
     "duration": 1.25144,
     "end_time": "2023-04-03T08:30:42.836251",
     "exception": false,
     "start_time": "2023-04-03T08:30:41.584811",
     "status": "completed"
    },
    "tags": []
   },
   "outputs": [
    {
     "name": "stdout",
     "output_type": "stream",
     "text": [
      "torch.Size([1, 256, 256])\n",
      "torch.Size([1, 256, 256])\n",
      "tensor(-1.) tensor(1.)\n",
      "tensor(0.) tensor(1.)\n"
     ]
    },
    {
     "data": {
      "image/png": "[encoded data removed]",
      "text/plain": [
       "<Figure size 500x500 with 1 Axes>"
      ]
     },
     "metadata": {},
     "output_type": "display_data"
    },
    {
     "data": {
      "image/png": "[encoded data removed]",
      "text/plain": [
       "<Figure size 500x500 with 1 Axes>"
      ]
     },
     "metadata": {},
     "output_type": "display_data"
    }
   ],
   "source": [
    "idx = np.random.choice (len (Mont_ds))\n",
    "img, lbl = Mont_ds [idx]\n",
    "print (img.shape)\n",
    "print (lbl.shape)\n",
    "print(img.min(), img.max())\n",
    "print(lbl.min(), lbl.max())\n",
    "imshow(img, mean1_1gray, std1_1gray)\n",
    "imshow(lbl, mean1_1gray, std1_1gray)"
   ]
  },
  {
   "cell_type": "markdown",
   "id": "44520c4e",
   "metadata": {
    "papermill": {
     "duration": 0.015428,
     "end_time": "2023-04-03T08:30:42.867469",
     "exception": false,
     "start_time": "2023-04-03T08:30:42.852041",
     "status": "completed"
    },
    "tags": []
   },
   "source": [
    "## Subset DS, Trainloader (For debugging)"
   ]
  },
  {
   "cell_type": "code",
   "execution_count": 14,
   "id": "a080e2e9",
   "metadata": {
    "execution": {
     "iopub.execute_input": "2023-04-03T08:30:42.899833Z",
     "iopub.status.busy": "2023-04-03T08:30:42.899518Z",
     "iopub.status.idle": "2023-04-03T08:30:42.905036Z",
     "shell.execute_reply": "2023-04-03T08:30:42.903987Z"
    },
    "papermill": {
     "duration": 0.023891,
     "end_time": "2023-04-03T08:30:42.907073",
     "exception": false,
     "start_time": "2023-04-03T08:30:42.883182",
     "status": "completed"
    },
    "tags": []
   },
   "outputs": [],
   "source": [
    "train_ds = torch.utils.data.ConcatDataset([Mont_ds, Shen_ds])\n",
    "\n",
    "if subset_mode == True:\n",
    "    train_ds = torch.utils.data.Subset(train_ds, indices = [i for i in range(train_images)])\n",
    "    \n",
    "elif subset_mode == False:\n",
    "    train_images = len(train_ds)\n",
    "\n",
    "# print(\"TRAIN IMAGES: \", len(train_ds))"
   ]
  },
  {
   "cell_type": "code",
   "execution_count": 15,
   "id": "57ce9c06",
   "metadata": {
    "execution": {
     "iopub.execute_input": "2023-04-03T08:30:42.938824Z",
     "iopub.status.busy": "2023-04-03T08:30:42.937888Z",
     "iopub.status.idle": "2023-04-03T08:30:42.944114Z",
     "shell.execute_reply": "2023-04-03T08:30:42.942940Z"
    },
    "papermill": {
     "duration": 0.024227,
     "end_time": "2023-04-03T08:30:42.946269",
     "exception": false,
     "start_time": "2023-04-03T08:30:42.922042",
     "status": "completed"
    },
    "tags": []
   },
   "outputs": [
    {
     "name": "stdout",
     "output_type": "stream",
     "text": [
      "unet_split_cut_layer_1_704_images_10_epochs\n"
     ]
    }
   ],
   "source": [
    "checkpoint_PATH = 'unet_split'\n",
    "checkpoint_PATH = checkpoint_PATH + \"_\" + \"cut_layer_\" + str(cut_layer) + \"_\" + str(train_images) + \"_images_\" + str(epochs) + \"_epochs\" \n",
    "print(checkpoint_PATH)"
   ]
  },
  {
   "cell_type": "code",
   "execution_count": 16,
   "id": "815de6d5",
   "metadata": {
    "execution": {
     "iopub.execute_input": "2023-04-03T08:30:42.977550Z",
     "iopub.status.busy": "2023-04-03T08:30:42.977272Z",
     "iopub.status.idle": "2023-04-03T08:30:42.985391Z",
     "shell.execute_reply": "2023-04-03T08:30:42.983986Z"
    },
    "papermill": {
     "duration": 0.026213,
     "end_time": "2023-04-03T08:30:42.987546",
     "exception": false,
     "start_time": "2023-04-03T08:30:42.961333",
     "status": "completed"
    },
    "tags": []
   },
   "outputs": [
    {
     "name": "stdout",
     "output_type": "stream",
     "text": [
      "563 141\n",
      "TRAIN IMAGES:  563\n",
      "VAL IMAGES:  141\n"
     ]
    }
   ],
   "source": [
    "train_size = int(0.80 * len(train_ds))\n",
    "valid_size = len(train_ds) - train_size\n",
    "train_ds, valid_ds = torch.utils.data.random_split(train_ds, [train_size, valid_size])\n",
    "\n",
    "print(len(train_ds), len(valid_ds))\n",
    "print(\"TRAIN IMAGES: \", len(train_ds))\n",
    "print(\"VAL IMAGES: \", len(valid_ds))"
   ]
  },
  {
   "cell_type": "code",
   "execution_count": 17,
   "id": "2ebb6cb3",
   "metadata": {
    "execution": {
     "iopub.execute_input": "2023-04-03T08:30:43.019009Z",
     "iopub.status.busy": "2023-04-03T08:30:43.018710Z",
     "iopub.status.idle": "2023-04-03T08:30:43.023141Z",
     "shell.execute_reply": "2023-04-03T08:30:43.022347Z"
    },
    "papermill": {
     "duration": 0.023389,
     "end_time": "2023-04-03T08:30:43.026178",
     "exception": false,
     "start_time": "2023-04-03T08:30:43.002789",
     "status": "completed"
    },
    "tags": []
   },
   "outputs": [
    {
     "name": "stdout",
     "output_type": "stream",
     "text": [
      "unet_split_cut_layer_1_704_images_10_epochs\n"
     ]
    }
   ],
   "source": [
    "print(checkpoint_PATH)"
   ]
  },
  {
   "cell_type": "markdown",
   "id": "5b327e8c",
   "metadata": {
    "papermill": {
     "duration": 0.014984,
     "end_time": "2023-04-03T08:30:43.057453",
     "exception": false,
     "start_time": "2023-04-03T08:30:43.042469",
     "status": "completed"
    },
    "tags": []
   },
   "source": [
    "## Trainloaders"
   ]
  },
  {
   "cell_type": "code",
   "execution_count": 18,
   "id": "d7b94c53",
   "metadata": {
    "execution": {
     "iopub.execute_input": "2023-04-03T08:30:43.089457Z",
     "iopub.status.busy": "2023-04-03T08:30:43.089197Z",
     "iopub.status.idle": "2023-04-03T08:30:43.093749Z",
     "shell.execute_reply": "2023-04-03T08:30:43.092732Z"
    },
    "papermill": {
     "duration": 0.023069,
     "end_time": "2023-04-03T08:30:43.095781",
     "exception": false,
     "start_time": "2023-04-03T08:30:43.072712",
     "status": "completed"
    },
    "tags": []
   },
   "outputs": [],
   "source": [
    "train_dl = DataLoader (train_ds, batch_size = 8, shuffle = True)\n",
    "valid_dl = DataLoader (valid_ds, batch_size = 8, shuffle = True)"
   ]
  },
  {
   "cell_type": "markdown",
   "id": "7c7db15b",
   "metadata": {
    "papermill": {
     "duration": 0.015181,
     "end_time": "2023-04-03T08:30:43.126186",
     "exception": false,
     "start_time": "2023-04-03T08:30:43.111005",
     "status": "completed"
    },
    "tags": []
   },
   "source": [
    "# MCOZ PLBS"
   ]
  },
  {
   "cell_type": "markdown",
   "id": "8e70a12e",
   "metadata": {
    "papermill": {
     "duration": 0.01498,
     "end_time": "2023-04-03T08:30:43.156348",
     "exception": false,
     "start_time": "2023-04-03T08:30:43.141368",
     "status": "completed"
    },
    "tags": []
   },
   "source": [
    "## Loss Function"
   ]
  },
  {
   "cell_type": "code",
   "execution_count": 19,
   "id": "78069f17",
   "metadata": {
    "execution": {
     "iopub.execute_input": "2023-04-03T08:30:43.187736Z",
     "iopub.status.busy": "2023-04-03T08:30:43.187438Z",
     "iopub.status.idle": "2023-04-03T08:30:43.196542Z",
     "shell.execute_reply": "2023-04-03T08:30:43.195508Z"
    },
    "papermill": {
     "duration": 0.027154,
     "end_time": "2023-04-03T08:30:43.198539",
     "exception": false,
     "start_time": "2023-04-03T08:30:43.171385",
     "status": "completed"
    },
    "tags": []
   },
   "outputs": [],
   "source": [
    "class DiceLoss(nn.Module):\n",
    "    def __init__(self, weight=None, size_average=True):\n",
    "        super(DiceLoss, self).__init__()\n",
    "\n",
    "    def forward(self, inputs, targets, smooth=1):\n",
    "\n",
    "        #comment out if your model contains a sigmoid or equivalent activation layer\n",
    "        inputs = torch.sigmoid(inputs)\n",
    "\n",
    "        #flatten label and prediction tensors\n",
    "        inputs = inputs.view(-1)\n",
    "        targets = targets.view(-1)\n",
    "\n",
    "        intersection = (inputs * targets).sum()\n",
    "        dice = (2.*intersection + smooth)/(inputs.sum() + targets.sum() + smooth)\n",
    "\n",
    "        return 1 - dice\n",
    "\n",
    "class DiceBCELoss(nn.Module):\n",
    "    def __init__(self, weight=None, size_average=True):\n",
    "        super(DiceBCELoss, self).__init__()\n",
    "\n",
    "    def forward(self, inputs, targets, smooth=1):\n",
    "\n",
    "        #comment out if your model contains a sigmoid or equivalent activation layer\n",
    "        inputs = torch.sigmoid(inputs)\n",
    "\n",
    "        #flatten label and prediction tensors\n",
    "        inputs = inputs.view(-1)\n",
    "        targets = targets.view(-1)\n",
    "\n",
    "        intersection = (inputs * targets).sum()\n",
    "        dice_loss = 1 - (2.*intersection + smooth)/(inputs.sum() + targets.sum() + smooth)\n",
    "        BCE = F.binary_cross_entropy(inputs, targets, reduction='mean')\n",
    "        Dice_BCE = BCE + dice_loss\n",
    "\n",
    "        return Dice_BCE"
   ]
  },
  {
   "cell_type": "markdown",
   "id": "32603072",
   "metadata": {
    "papermill": {
     "duration": 0.014935,
     "end_time": "2023-04-03T08:30:43.228600",
     "exception": false,
     "start_time": "2023-04-03T08:30:43.213665",
     "status": "completed"
    },
    "tags": []
   },
   "source": [
    "## Metrics"
   ]
  },
  {
   "cell_type": "code",
   "execution_count": 20,
   "id": "1a8573b8",
   "metadata": {
    "execution": {
     "iopub.execute_input": "2023-04-03T08:30:43.259774Z",
     "iopub.status.busy": "2023-04-03T08:30:43.259509Z",
     "iopub.status.idle": "2023-04-03T08:30:43.265428Z",
     "shell.execute_reply": "2023-04-03T08:30:43.264453Z"
    },
    "papermill": {
     "duration": 0.023814,
     "end_time": "2023-04-03T08:30:43.267470",
     "exception": false,
     "start_time": "2023-04-03T08:30:43.243656",
     "status": "completed"
    },
    "tags": []
   },
   "outputs": [],
   "source": [
    "def calculate_metrics(y_pred, y_true):\n",
    "    \"\"\" Ground truth \"\"\"\n",
    "    y_true = y_true.cpu().numpy()\n",
    "    y_true = y_true > 0.5\n",
    "    y_true = y_true.astype(np.uint8)\n",
    "    y_true = y_true.reshape(-1)\n",
    "\n",
    "    \"\"\" Prediction \"\"\"\n",
    "    y_pred = y_pred.cpu().detach().numpy()\n",
    "    y_pred = y_pred > 0.5\n",
    "    y_pred = y_pred.astype(np.uint8)\n",
    "    y_pred = y_pred.reshape(-1)\n",
    "\n",
    "    score_jaccard = jaccard_score(y_true, y_pred)\n",
    "#     score_f1 = f1_score(y_true, y_pred)\n",
    "#     score_recall = recall_score(y_true, y_pred)\n",
    "#     score_precision = precision_score(y_true, y_pred)\n",
    "    score_acc = accuracy_score(y_true, y_pred)\n",
    "\n",
    "    return [score_jaccard, score_acc]"
   ]
  },
  {
   "cell_type": "code",
   "execution_count": 21,
   "id": "51380c99",
   "metadata": {
    "execution": {
     "iopub.execute_input": "2023-04-03T08:30:43.298889Z",
     "iopub.status.busy": "2023-04-03T08:30:43.298630Z",
     "iopub.status.idle": "2023-04-03T08:30:53.747065Z",
     "shell.execute_reply": "2023-04-03T08:30:53.745774Z"
    },
    "papermill": {
     "duration": 10.467221,
     "end_time": "2023-04-03T08:30:53.749820",
     "exception": false,
     "start_time": "2023-04-03T08:30:43.282599",
     "status": "completed"
    },
    "tags": []
   },
   "outputs": [
    {
     "name": "stdout",
     "output_type": "stream",
     "text": [
      "\u001b[33mWARNING: Running pip as the 'root' user can result in broken permissions and conflicting behaviour with the system package manager. It is recommended to use a virtual environment instead: https://pip.pypa.io/warnings/venv\u001b[0m\u001b[33m\r\n",
      "\u001b[0m"
     ]
    }
   ],
   "source": [
    "try:\n",
    "    from torchsummary import summary\n",
    "except ImportError:\n",
    "    !pip3 -q install torchsummary\n",
    "    from torchsummary import summary"
   ]
  },
  {
   "cell_type": "code",
   "execution_count": 22,
   "id": "ec7c24d7",
   "metadata": {
    "execution": {
     "iopub.execute_input": "2023-04-03T08:30:53.783913Z",
     "iopub.status.busy": "2023-04-03T08:30:53.782310Z",
     "iopub.status.idle": "2023-04-03T08:30:53.848053Z",
     "shell.execute_reply": "2023-04-03T08:30:53.846993Z"
    },
    "papermill": {
     "duration": 0.085726,
     "end_time": "2023-04-03T08:30:53.851385",
     "exception": false,
     "start_time": "2023-04-03T08:30:53.765659",
     "status": "completed"
    },
    "tags": []
   },
   "outputs": [
    {
     "name": "stdout",
     "output_type": "stream",
     "text": [
      "cuda\n"
     ]
    }
   ],
   "source": [
    "device = torch.device('cuda' if torch.cuda.is_available() else 'cpu')\n",
    "print(device)"
   ]
  },
  {
   "cell_type": "markdown",
   "id": "90ea3f9b",
   "metadata": {
    "papermill": {
     "duration": 0.015249,
     "end_time": "2023-04-03T08:30:53.883121",
     "exception": false,
     "start_time": "2023-04-03T08:30:53.867872",
     "status": "completed"
    },
    "tags": []
   },
   "source": [
    "## U-Net Model"
   ]
  },
  {
   "cell_type": "code",
   "execution_count": 23,
   "id": "214d1c23",
   "metadata": {
    "execution": {
     "iopub.execute_input": "2023-04-03T08:30:53.915696Z",
     "iopub.status.busy": "2023-04-03T08:30:53.914779Z",
     "iopub.status.idle": "2023-04-03T08:30:53.926132Z",
     "shell.execute_reply": "2023-04-03T08:30:53.925187Z"
    },
    "papermill": {
     "duration": 0.029699,
     "end_time": "2023-04-03T08:30:53.928174",
     "exception": false,
     "start_time": "2023-04-03T08:30:53.898475",
     "status": "completed"
    },
    "tags": []
   },
   "outputs": [],
   "source": [
    "class conv_block(nn.Module):\n",
    "    def __init__(self, in_c, out_c):\n",
    "        super().__init__()\n",
    "\n",
    "        self.conv1 = nn.Conv2d(in_c, out_c, kernel_size=3, padding=1)\n",
    "        self.bn1 = nn.BatchNorm2d(out_c)\n",
    "\n",
    "        self.conv2 = nn.Conv2d(out_c, out_c, kernel_size=3, padding=1)\n",
    "        self.bn2 = nn.BatchNorm2d(out_c)\n",
    "\n",
    "        self.relu = nn.ReLU()\n",
    "\n",
    "    def forward(self, inputs):\n",
    "        x = self.conv1(inputs)\n",
    "        x = self.bn1(x)\n",
    "        x = self.relu(x)\n",
    "\n",
    "        x = self.conv2(x)\n",
    "        x = self.bn2(x)\n",
    "        x = self.relu(x)\n",
    "\n",
    "        return x\n",
    "\n",
    "class encoder_block(nn.Module):\n",
    "    def __init__(self, in_c, out_c):\n",
    "        super().__init__()\n",
    "\n",
    "        self.conv = conv_block(in_c, out_c)\n",
    "        self.pool = nn.MaxPool2d((2, 2))\n",
    "\n",
    "    def forward(self, inputs):\n",
    "        x = self.conv(inputs)\n",
    "        p = self.pool(x)\n",
    "\n",
    "        return x, p\n",
    "\n",
    "class decoder_block(nn.Module):\n",
    "    def __init__(self, in_c, out_c):\n",
    "        super().__init__()\n",
    "\n",
    "        self.up = nn.ConvTranspose2d(in_c, out_c, kernel_size=2, stride=2, padding=0)\n",
    "        self.conv = conv_block(out_c+out_c, out_c)\n",
    "\n",
    "    def forward(self, inputs, skip):\n",
    "        x = self.up(inputs)\n",
    "        x = torch.cat([x, skip], axis=1)\n",
    "        x = self.conv(x)\n",
    "        return x"
   ]
  },
  {
   "cell_type": "markdown",
   "id": "53ec6d9e",
   "metadata": {
    "papermill": {
     "duration": 0.015054,
     "end_time": "2023-04-03T08:30:53.958783",
     "exception": false,
     "start_time": "2023-04-03T08:30:53.943729",
     "status": "completed"
    },
    "tags": []
   },
   "source": [
    "## Old (Client, Server Classes) - Hardcoded"
   ]
  },
  {
   "cell_type": "code",
   "execution_count": 24,
   "id": "70611366",
   "metadata": {
    "execution": {
     "iopub.execute_input": "2023-04-03T08:30:53.991350Z",
     "iopub.status.busy": "2023-04-03T08:30:53.990392Z",
     "iopub.status.idle": "2023-04-03T08:30:54.002899Z",
     "shell.execute_reply": "2023-04-03T08:30:54.001972Z"
    },
    "papermill": {
     "duration": 0.030756,
     "end_time": "2023-04-03T08:30:54.004903",
     "exception": false,
     "start_time": "2023-04-03T08:30:53.974147",
     "status": "completed"
    },
    "tags": []
   },
   "outputs": [],
   "source": [
    "class Unet_Client_Encoder(nn.Module):\n",
    "    def __init__(self, input_channel:int = 3, output_channel:int = 1):\n",
    "        super().__init__()\n",
    "\n",
    "        \"\"\" Encoder \"\"\"\n",
    "        self.e1 = encoder_block(input_channel, 64)\n",
    "        self.e2 = encoder_block(64, 128)\n",
    "\n",
    "    def forward(self, inputs):\n",
    "        \"\"\" Encoder \"\"\"\n",
    "        s1, p1 = self.e1(inputs)\n",
    "        s2, p2 = self.e2(p1)\n",
    "\n",
    "        return p2, [s1, s2]\n",
    "    \n",
    "    \n",
    "class Unet_Server_Widow(nn.Module):\n",
    "    def __init__(self, input_channel:int = 3, output_channel:int = 1):\n",
    "        super().__init__()\n",
    "\n",
    "        self.e3 = encoder_block(128, 256)\n",
    "        self.e4 = encoder_block(256, 512)\n",
    "\n",
    "        self.b = conv_block(512, 1024)\n",
    "\n",
    "        self.d1 = decoder_block(1024, 512)\n",
    "        self.d2 = decoder_block(512, 256)\n",
    "\n",
    "    def forward(self, inputs):\n",
    "        s3, p3 = self.e3(inputs)\n",
    "        s4, p4 = self.e4(p3)\n",
    "\n",
    "        \"\"\" Bottleneck \"\"\"\n",
    "        b = self.b(p4)\n",
    "\n",
    "        \"\"\" Decoder \"\"\"\n",
    "        d1 = self.d1(b, s4)\n",
    "        d2 = self.d2(d1, s3)\n",
    "\n",
    "        return d2\n",
    "    \n",
    "class Unet_Client_Decoder(nn.Module):\n",
    "    def __init__(self, input_channel:int = 3, output_channel:int = 1):\n",
    "        super().__init__()\n",
    "        self.d3 = decoder_block(256, 128)\n",
    "        self.d4 = decoder_block(128, 64)\n",
    "\n",
    "        \"\"\" Classifier \"\"\"\n",
    "        self.outputs = nn.Conv2d(64, output_channel, kernel_size=1, padding=0)\n",
    "\n",
    "    def forward(self, inputs, skips):\n",
    "        print(\"In CLient DECCCCC OLD\", skips.shape)\n",
    "        print(inputs.shape)\n",
    "#         print(skips[1].shape)\n",
    "#         print(skips[0].shape)\n",
    "        print()\n",
    "        d3 = self.d3(inputs, skips[1])\n",
    "        print(d3.shape)\n",
    "        d4 = self.d4(d3, skips[0])\n",
    "        print(d4.shape)\n",
    "        print(\"____________________________________\")\n",
    "\n",
    "        outputs = self.outputs(d4)\n",
    "\n",
    "        return outputs\n"
   ]
  },
  {
   "cell_type": "markdown",
   "id": "2979ad6a",
   "metadata": {
    "papermill": {
     "duration": 0.015533,
     "end_time": "2023-04-03T08:30:54.035748",
     "exception": false,
     "start_time": "2023-04-03T08:30:54.020215",
     "status": "completed"
    },
    "tags": []
   },
   "source": [
    "## Modular Classes "
   ]
  },
  {
   "cell_type": "code",
   "execution_count": 25,
   "id": "424e81df",
   "metadata": {
    "execution": {
     "iopub.execute_input": "2023-04-03T08:30:54.070127Z",
     "iopub.status.busy": "2023-04-03T08:30:54.069689Z",
     "iopub.status.idle": "2023-04-03T08:30:54.075597Z",
     "shell.execute_reply": "2023-04-03T08:30:54.074541Z"
    },
    "papermill": {
     "duration": 0.026341,
     "end_time": "2023-04-03T08:30:54.077927",
     "exception": false,
     "start_time": "2023-04-03T08:30:54.051586",
     "status": "completed"
    },
    "tags": []
   },
   "outputs": [],
   "source": [
    "input_channel:int = 1\n",
    "output_channel:int = 1\n",
    "\n",
    "encoder_channels = [input_channel,64,128,256,512,1024]\n",
    "decoder_channels = [1024, 512, 256, 128, 64, output_channel]\n",
    "\n",
    "# cut_layer = cut_layer # This means, Client_Encoder should contain encoders for (input_channel, 64), and (64, 128) {Upto 3rd element of encoder_channels}\n",
    "\n",
    "# print([(encoder_channels[i], encoder_channels[i+1]) for i in range(len(encoder_channels) - 2) ]) # Encoder blocks\n",
    "# print((encoder_channels[len(encoder_channels)-2], encoder_channels[len(encoder_channels)-1])) # Bottleneck\n",
    "\n",
    "# print([(decoder_channels[i], decoder_channels[i+1]) for i in range(len(decoder_channels) - 2) ]) # Decoder blocks\n",
    "# print((decoder_channels[len(decoder_channels)-2], decoder_channels[len(decoder_channels)-1])) # Output layer"
   ]
  },
  {
   "cell_type": "markdown",
   "id": "33fba152",
   "metadata": {
    "papermill": {
     "duration": 0.016374,
     "end_time": "2023-04-03T08:30:54.111540",
     "exception": false,
     "start_time": "2023-04-03T08:30:54.095166",
     "status": "completed"
    },
    "tags": []
   },
   "source": [
    "### Model Summary"
   ]
  },
  {
   "cell_type": "code",
   "execution_count": 26,
   "id": "a4461443",
   "metadata": {
    "execution": {
     "iopub.execute_input": "2023-04-03T08:30:54.146834Z",
     "iopub.status.busy": "2023-04-03T08:30:54.146466Z",
     "iopub.status.idle": "2023-04-03T08:30:54.157281Z",
     "shell.execute_reply": "2023-04-03T08:30:54.156276Z"
    },
    "papermill": {
     "duration": 0.031228,
     "end_time": "2023-04-03T08:30:54.159568",
     "exception": false,
     "start_time": "2023-04-03T08:30:54.128340",
     "status": "completed"
    },
    "tags": []
   },
   "outputs": [],
   "source": [
    "def verbose_model_summary(encoder_channels, decoder_channels, cut_layer):\n",
    "    e_channels = encoder_channels\n",
    "    d_channels = decoder_channels\n",
    "\n",
    "    cut_layer = cut_layer\n",
    "    print(\"Cut Layer: \", cut_layer)\n",
    "\n",
    "    ne = len(e_channels) # No. of Encoder Channels\n",
    "    nd = len(d_channels) # No. of Decoder Channels\n",
    "\n",
    "    encoder_list = [encoder_block(e_channels[i], e_channels[i+1]) for i in range(ne - 2)]\n",
    "    bottleneck = conv_block(e_channels[ne - 2], e_channels[ne - 1]) # Second last, and last channel (512, 1024)\n",
    "    decoder_list = [decoder_block(d_channels[i], d_channels[i+1]) for i in range(nd - 2)]\n",
    "    output_layer = nn.Conv2d(d_channels[nd-2], d_channels[nd-1], kernel_size=1, padding=0)\n",
    "    \n",
    "    print(\"===========================================================================================================\")\n",
    "    print(\"CLIENT ENCODER\")\n",
    "    print(\"_____________________________________________________________________________\")\n",
    "    print(encoder_list[0:cut_layer]) # CE \n",
    "    # cut_layer = 2 Means First two (in the entire U-Net)\n",
    "    print(\"===========================================================================================================\")\n",
    "    print()\n",
    "    \n",
    "    print(\"SERVER WIDOW\")\n",
    "    print(\"_____________________________________________________________________________\")\n",
    "    print(encoder_list[cut_layer:]) # SW\n",
    "    print(\"_____________________________________________________________________________\")\n",
    "    print(bottleneck)\n",
    "    print(\"_____________________________________________________________________________\")\n",
    "    print(decoder_list[:-(cut_layer)])\n",
    "    print(\"===========================================================================================================\")\n",
    "    print()\n",
    "    \n",
    "    print(\"CLIENT DECODER\")\n",
    "    print(\"_____________________________________________________________________________\")\n",
    "    print(decoder_list[-(cut_layer):]) # CD\n",
    "    # cut_layer = 2 Means Last two (in the entire U-Net)\n",
    "    print(\"_____________________________________________________________________________\")\n",
    "    print(output_layer)\n",
    "    print(\"===========================================================================================================\")"
   ]
  },
  {
   "cell_type": "code",
   "execution_count": 27,
   "id": "8806f4b6",
   "metadata": {
    "execution": {
     "iopub.execute_input": "2023-04-03T08:30:54.192063Z",
     "iopub.status.busy": "2023-04-03T08:30:54.191281Z",
     "iopub.status.idle": "2023-04-03T08:30:54.511728Z",
     "shell.execute_reply": "2023-04-03T08:30:54.508398Z"
    },
    "papermill": {
     "duration": 0.339237,
     "end_time": "2023-04-03T08:30:54.514289",
     "exception": false,
     "start_time": "2023-04-03T08:30:54.175052",
     "status": "completed"
    },
    "tags": []
   },
   "outputs": [
    {
     "name": "stdout",
     "output_type": "stream",
     "text": [
      "Cut Layer:  1\n",
      "===========================================================================================================\n",
      "CLIENT ENCODER\n",
      "_____________________________________________________________________________\n",
      "[encoder_block(\n",
      "  (conv): conv_block(\n",
      "    (conv1): Conv2d(1, 64, kernel_size=(3, 3), stride=(1, 1), padding=(1, 1))\n",
      "    (bn1): BatchNorm2d(64, eps=1e-05, momentum=0.1, affine=True, track_running_stats=True)\n",
      "    (conv2): Conv2d(64, 64, kernel_size=(3, 3), stride=(1, 1), padding=(1, 1))\n",
      "    (bn2): BatchNorm2d(64, eps=1e-05, momentum=0.1, affine=True, track_running_stats=True)\n",
      "    (relu): ReLU()\n",
      "  )\n",
      "  (pool): MaxPool2d(kernel_size=(2, 2), stride=(2, 2), padding=0, dilation=1, ceil_mode=False)\n",
      ")]\n",
      "===========================================================================================================\n",
      "\n",
      "SERVER WIDOW\n",
      "_____________________________________________________________________________\n",
      "[encoder_block(\n",
      "  (conv): conv_block(\n",
      "    (conv1): Conv2d(64, 128, kernel_size=(3, 3), stride=(1, 1), padding=(1, 1))\n",
      "    (bn1): BatchNorm2d(128, eps=1e-05, momentum=0.1, affine=True, track_running_stats=True)\n",
      "    (conv2): Conv2d(128, 128, kernel_size=(3, 3), stride=(1, 1), padding=(1, 1))\n",
      "    (bn2): BatchNorm2d(128, eps=1e-05, momentum=0.1, affine=True, track_running_stats=True)\n",
      "    (relu): ReLU()\n",
      "  )\n",
      "  (pool): MaxPool2d(kernel_size=(2, 2), stride=(2, 2), padding=0, dilation=1, ceil_mode=False)\n",
      "), encoder_block(\n",
      "  (conv): conv_block(\n",
      "    (conv1): Conv2d(128, 256, kernel_size=(3, 3), stride=(1, 1), padding=(1, 1))\n",
      "    (bn1): BatchNorm2d(256, eps=1e-05, momentum=0.1, affine=True, track_running_stats=True)\n",
      "    (conv2): Conv2d(256, 256, kernel_size=(3, 3), stride=(1, 1), padding=(1, 1))\n",
      "    (bn2): BatchNorm2d(256, eps=1e-05, momentum=0.1, affine=True, track_running_stats=True)\n",
      "    (relu): ReLU()\n",
      "  )\n",
      "  (pool): MaxPool2d(kernel_size=(2, 2), stride=(2, 2), padding=0, dilation=1, ceil_mode=False)\n",
      "), encoder_block(\n",
      "  (conv): conv_block(\n",
      "    (conv1): Conv2d(256, 512, kernel_size=(3, 3), stride=(1, 1), padding=(1, 1))\n",
      "    (bn1): BatchNorm2d(512, eps=1e-05, momentum=0.1, affine=True, track_running_stats=True)\n",
      "    (conv2): Conv2d(512, 512, kernel_size=(3, 3), stride=(1, 1), padding=(1, 1))\n",
      "    (bn2): BatchNorm2d(512, eps=1e-05, momentum=0.1, affine=True, track_running_stats=True)\n",
      "    (relu): ReLU()\n",
      "  )\n",
      "  (pool): MaxPool2d(kernel_size=(2, 2), stride=(2, 2), padding=0, dilation=1, ceil_mode=False)\n",
      ")]\n",
      "_____________________________________________________________________________\n",
      "conv_block(\n",
      "  (conv1): Conv2d(512, 1024, kernel_size=(3, 3), stride=(1, 1), padding=(1, 1))\n",
      "  (bn1): BatchNorm2d(1024, eps=1e-05, momentum=0.1, affine=True, track_running_stats=True)\n",
      "  (conv2): Conv2d(1024, 1024, kernel_size=(3, 3), stride=(1, 1), padding=(1, 1))\n",
      "  (bn2): BatchNorm2d(1024, eps=1e-05, momentum=0.1, affine=True, track_running_stats=True)\n",
      "  (relu): ReLU()\n",
      ")\n",
      "_____________________________________________________________________________\n",
      "[decoder_block(\n",
      "  (up): ConvTranspose2d(1024, 512, kernel_size=(2, 2), stride=(2, 2))\n",
      "  (conv): conv_block(\n",
      "    (conv1): Conv2d(1024, 512, kernel_size=(3, 3), stride=(1, 1), padding=(1, 1))\n",
      "    (bn1): BatchNorm2d(512, eps=1e-05, momentum=0.1, affine=True, track_running_stats=True)\n",
      "    (conv2): Conv2d(512, 512, kernel_size=(3, 3), stride=(1, 1), padding=(1, 1))\n",
      "    (bn2): BatchNorm2d(512, eps=1e-05, momentum=0.1, affine=True, track_running_stats=True)\n",
      "    (relu): ReLU()\n",
      "  )\n",
      "), decoder_block(\n",
      "  (up): ConvTranspose2d(512, 256, kernel_size=(2, 2), stride=(2, 2))\n",
      "  (conv): conv_block(\n",
      "    (conv1): Conv2d(512, 256, kernel_size=(3, 3), stride=(1, 1), padding=(1, 1))\n",
      "    (bn1): BatchNorm2d(256, eps=1e-05, momentum=0.1, affine=True, track_running_stats=True)\n",
      "    (conv2): Conv2d(256, 256, kernel_size=(3, 3), stride=(1, 1), padding=(1, 1))\n",
      "    (bn2): BatchNorm2d(256, eps=1e-05, momentum=0.1, affine=True, track_running_stats=True)\n",
      "    (relu): ReLU()\n",
      "  )\n",
      "), decoder_block(\n",
      "  (up): ConvTranspose2d(256, 128, kernel_size=(2, 2), stride=(2, 2))\n",
      "  (conv): conv_block(\n",
      "    (conv1): Conv2d(256, 128, kernel_size=(3, 3), stride=(1, 1), padding=(1, 1))\n",
      "    (bn1): BatchNorm2d(128, eps=1e-05, momentum=0.1, affine=True, track_running_stats=True)\n",
      "    (conv2): Conv2d(128, 128, kernel_size=(3, 3), stride=(1, 1), padding=(1, 1))\n",
      "    (bn2): BatchNorm2d(128, eps=1e-05, momentum=0.1, affine=True, track_running_stats=True)\n",
      "    (relu): ReLU()\n",
      "  )\n",
      ")]\n",
      "===========================================================================================================\n",
      "\n",
      "CLIENT DECODER\n",
      "_____________________________________________________________________________\n",
      "[decoder_block(\n",
      "  (up): ConvTranspose2d(128, 64, kernel_size=(2, 2), stride=(2, 2))\n",
      "  (conv): conv_block(\n",
      "    (conv1): Conv2d(128, 64, kernel_size=(3, 3), stride=(1, 1), padding=(1, 1))\n",
      "    (bn1): BatchNorm2d(64, eps=1e-05, momentum=0.1, affine=True, track_running_stats=True)\n",
      "    (conv2): Conv2d(64, 64, kernel_size=(3, 3), stride=(1, 1), padding=(1, 1))\n",
      "    (bn2): BatchNorm2d(64, eps=1e-05, momentum=0.1, affine=True, track_running_stats=True)\n",
      "    (relu): ReLU()\n",
      "  )\n",
      ")]\n",
      "_____________________________________________________________________________\n",
      "Conv2d(64, 1, kernel_size=(1, 1), stride=(1, 1))\n",
      "===========================================================================================================\n"
     ]
    }
   ],
   "source": [
    "verbose_model_summary(encoder_channels, decoder_channels, cut_layer = cut_layer)"
   ]
  },
  {
   "cell_type": "markdown",
   "id": "63e54785",
   "metadata": {
    "papermill": {
     "duration": 0.015599,
     "end_time": "2023-04-03T08:30:54.546534",
     "exception": false,
     "start_time": "2023-04-03T08:30:54.530935",
     "status": "completed"
    },
    "tags": []
   },
   "source": [
    "## Same Constructors, Diff. Forward() functions for the 3 Modular classes!!"
   ]
  },
  {
   "cell_type": "code",
   "execution_count": 28,
   "id": "9b8aa24d",
   "metadata": {
    "execution": {
     "iopub.execute_input": "2023-04-03T08:30:54.579341Z",
     "iopub.status.busy": "2023-04-03T08:30:54.579044Z",
     "iopub.status.idle": "2023-04-03T08:30:54.597968Z",
     "shell.execute_reply": "2023-04-03T08:30:54.596985Z"
    },
    "papermill": {
     "duration": 0.038112,
     "end_time": "2023-04-03T08:30:54.600343",
     "exception": false,
     "start_time": "2023-04-03T08:30:54.562231",
     "status": "completed"
    },
    "tags": []
   },
   "outputs": [],
   "source": [
    "class Unet_Client_Encoder_Mod(nn.Module):\n",
    "    def __init__(self, input_channel:int = 3, output_channel:int = 1, cut_layer = 3):\n",
    "        super().__init__()\n",
    "        \n",
    "        \n",
    "        self.cut_layer = cut_layer\n",
    "        e_channels = [input_channel,64,128,256,512,1024] # Last channel reserved for bottleneck, others for encoder_blocks\n",
    "\n",
    "        ne = len(e_channels) # No. of Encoder Channels\n",
    "\n",
    "        self.encoder_list = nn.ModuleList([encoder_block(e_channels[i], e_channels[i+1]) for i in range(ne - 2)])\n",
    "        \n",
    "        # Unused Components\n",
    "        # d_channels = [1024, 512, 256, 128, 64, output_channel]\n",
    "        # nd = len(d_channels) # No. of Decoder Channels\n",
    "        # self.bottleneck = conv_block(e_channels[ne - 2], e_channels[ne - 1]) # Second last, and last channel (512, 1024)\n",
    "        # self.decoder_list = nn.ModuleList([decoder_block(d_channels[i], d_channels[i+1]) for i in range(nd - 2)])\n",
    "        # self.output_layer = nn.Conv2d(d_channels[nd-2], d_channels[nd-1], kernel_size=1, padding=0) # Second last, and last channel (64, 1)\n",
    "\n",
    "    def forward(self, inputs):\n",
    "    # Encoder\n",
    "        skips = [] # These will be used by the decoder blocks later (in reverse order)\n",
    "    \n",
    "        for i in range(0,self.cut_layer): # Cut_Layer = 2 means first 2 of the decoder blocks (1, 64), (64, 128)\n",
    "            if i == 0: # To initialize s and p\n",
    "                s, p = self.encoder_list[i](inputs)\n",
    "            else:\n",
    "                s, p = self.encoder_list[i](p)\n",
    "            skips.append(s)\n",
    "        \n",
    "        return p, skips\n",
    "# _______________________________________________________________________________________________________\n",
    "    \n",
    "class Unet_Server_Widow_Mod(nn.Module):\n",
    "    def __init__(self, input_channel:int = 3, output_channel:int = 1, cut_layer = 3):\n",
    "        super().__init__()\n",
    "\n",
    "        self.cut_layer = cut_layer\n",
    "        e_channels = [input_channel,64,128,256,512,1024]\n",
    "        d_channels = [1024, 512, 256, 128, 64, output_channel]\n",
    "\n",
    "        ne = len(e_channels) # No. of Encoder Channels\n",
    "        nd = len(d_channels) # No. of Decoder Channels\n",
    "\n",
    "        self.encoder_list = nn.ModuleList([encoder_block(e_channels[i], e_channels[i+1]) for i in range(ne - 2)])\n",
    "        self.bottleneck = conv_block(e_channels[ne - 2], e_channels[ne - 1]) # Second last, and last channel (512, 1024)\n",
    "        self.decoder_list = nn.ModuleList([decoder_block(d_channels[i], d_channels[i+1]) for i in range(nd - 2)])\n",
    "        \n",
    "        # Unused Components\n",
    "        # self.output_layer = nn.Conv2d(d_channels[nd-2], d_channels[nd-1], kernel_size=1, padding=0) # Second last, and last channel (64, 1)\n",
    "\n",
    "    def forward(self, inputs):\n",
    "    # Encoder        \n",
    "        skips = []\n",
    "        count = 0\n",
    "        for i in range(self.cut_layer, len(self.encoder_list)):\n",
    "            if count == 0: # Need to check 'count' for zero, because if we check i, s and p will never be initialized!\n",
    "                s, p = self.encoder_list[i](inputs)\n",
    "            else:\n",
    "                s, p = self.encoder_list[i](p)\n",
    "            \n",
    "            skips.append(s)\n",
    "            count = count + 1\n",
    "    # Bottleneck\n",
    "        b = self.bottleneck(p)\n",
    "                \n",
    "    # Decoder\n",
    "        skips = skips[::-1] # Reverse the list!! We received [s3, s4], we need to use it in the order [s4, s3]\n",
    "    \n",
    "        for i in range(0, len(self.decoder_list)-self.cut_layer):\n",
    "            if i == 0: # To initialize d\n",
    "                d = self.decoder_list[i](b, skips[i])\n",
    "            else:\n",
    "                d = self.decoder_list[i](d, skips[i])\n",
    "            \n",
    "        return d\n",
    "# _______________________________________________________________________________________________________\n",
    "    \n",
    "class Unet_Client_Decoder_Mod(nn.Module):\n",
    "    def __init__(self, input_channel:int = 3, output_channel:int = 1, cut_layer = 3):\n",
    "        super().__init__()\n",
    "\n",
    "        self.cut_layer = cut_layer\n",
    "        d_channels = [1024, 512, 256, 128, 64, output_channel] # Last \"output_channel\" is reserved for output_layer\n",
    "        nd = len(d_channels) \n",
    "        \n",
    "        self.decoder_list = nn.ModuleList([decoder_block(d_channels[i], d_channels[i+1]) for i in range(nd - 2)]) # (1024, 512),..., (128, 64)\n",
    "        self.output_layer = nn.Conv2d(d_channels[nd-2], d_channels[nd-1], kernel_size=1, padding=0) # Second last, and last channel (64, 1)\n",
    "\n",
    "        # Unused Components\n",
    "        # e_channels = [input_channel,64,128,256,512,1024]\n",
    "        # ne = len(e_channels) # No. of Encoder Channels\n",
    "        # self.encoder_list = nn.ModuleList([encoder_block(e_channels[i], e_channels[i+1]) for i in range(ne - 2)])\n",
    "        # self.bottleneck = conv_block(e_channels[ne - 2], e_channels[ne - 1]) # Second last, and last channel (512, 1024)\n",
    "\n",
    "\n",
    "    def forward(self, inputs, skips):\n",
    "    # Decoder\n",
    "        skips = skips[::-1] # Reverse The List (We got [s1, s2], but we need to use it in the order [s2, s1])            \n",
    "        count = 0\n",
    "        \n",
    "        for i in range(len(self.decoder_list)-self.cut_layer, len(self.decoder_list)): # Cut_layer = 2 means last 2 decoder_blocks\n",
    "            if count == 0: # Need to check 'count' for zero, because if we check i, d will never be initialized!\n",
    "                d = self.decoder_list[i](inputs, skips[count])\n",
    "            else:\n",
    "                d = self.decoder_list[i](d, skips[count])\n",
    "            count = count + 1\n",
    "        \n",
    "        outputs = self.output_layer(d)\n",
    "        \n",
    "        return outputs\n"
   ]
  },
  {
   "cell_type": "code",
   "execution_count": 29,
   "id": "eb69a441",
   "metadata": {
    "execution": {
     "iopub.execute_input": "2023-04-03T08:30:54.632903Z",
     "iopub.status.busy": "2023-04-03T08:30:54.632631Z",
     "iopub.status.idle": "2023-04-03T08:30:54.637618Z",
     "shell.execute_reply": "2023-04-03T08:30:54.636597Z"
    },
    "papermill": {
     "duration": 0.024927,
     "end_time": "2023-04-03T08:30:54.640717",
     "exception": false,
     "start_time": "2023-04-03T08:30:54.615790",
     "status": "completed"
    },
    "tags": []
   },
   "outputs": [
    {
     "name": "stdout",
     "output_type": "stream",
     "text": [
      "Cut Layer is :  1\n"
     ]
    }
   ],
   "source": [
    "print(\"Cut Layer is : \", cut_layer)"
   ]
  },
  {
   "cell_type": "code",
   "execution_count": 30,
   "id": "a80e3220",
   "metadata": {
    "execution": {
     "iopub.execute_input": "2023-04-03T08:30:54.673907Z",
     "iopub.status.busy": "2023-04-03T08:30:54.673642Z",
     "iopub.status.idle": "2023-04-03T08:30:57.924526Z",
     "shell.execute_reply": "2023-04-03T08:30:57.923150Z"
    },
    "papermill": {
     "duration": 3.271575,
     "end_time": "2023-04-03T08:30:57.928668",
     "exception": false,
     "start_time": "2023-04-03T08:30:54.657093",
     "status": "completed"
    },
    "tags": []
   },
   "outputs": [
    {
     "name": "stdout",
     "output_type": "stream",
     "text": [
      "cuda\n"
     ]
    }
   ],
   "source": [
    "print(device)\n",
    "\n",
    "# mod = False\n",
    "mod = mod\n",
    "\n",
    "if mod == False:\n",
    "    uce_model = Unet_Client_Encoder(input_channel=1, output_channel=1) # M\n",
    "    usw_model = Unet_Server_Widow(input_channel=1, output_channel=1) # M\n",
    "    ucd_model = Unet_Client_Decoder(input_channel=1, output_channel=1) # M\n",
    "\n",
    "if mod == True:\n",
    "    uce_model = Unet_Client_Encoder_Mod(input_channel=1, output_channel=1, cut_layer = cut_layer) # M\n",
    "    usw_model = Unet_Server_Widow_Mod(input_channel=1, output_channel=1, cut_layer = cut_layer) # M\n",
    "    ucd_model = Unet_Client_Decoder_Mod(input_channel=1, output_channel=1, cut_layer = cut_layer) # M\n",
    "\n",
    "uce_model = uce_model.to(device) # M\n",
    "usw_model = usw_model.to(device) # M\n",
    "ucd_model = ucd_model.to(device) # M\n",
    "\n",
    "models = [uce_model, usw_model, ucd_model]"
   ]
  },
  {
   "cell_type": "code",
   "execution_count": 31,
   "id": "6f853798",
   "metadata": {
    "execution": {
     "iopub.execute_input": "2023-04-03T08:30:57.980840Z",
     "iopub.status.busy": "2023-04-03T08:30:57.980436Z",
     "iopub.status.idle": "2023-04-03T08:30:57.985381Z",
     "shell.execute_reply": "2023-04-03T08:30:57.984351Z"
    },
    "papermill": {
     "duration": 0.033522,
     "end_time": "2023-04-03T08:30:57.988917",
     "exception": false,
     "start_time": "2023-04-03T08:30:57.955395",
     "status": "completed"
    },
    "tags": []
   },
   "outputs": [],
   "source": [
    "# y_pred, skip = deb(models)"
   ]
  },
  {
   "cell_type": "code",
   "execution_count": 32,
   "id": "0a51a112",
   "metadata": {
    "execution": {
     "iopub.execute_input": "2023-04-03T08:30:58.037377Z",
     "iopub.status.busy": "2023-04-03T08:30:58.037023Z",
     "iopub.status.idle": "2023-04-03T08:30:58.041314Z",
     "shell.execute_reply": "2023-04-03T08:30:58.040420Z"
    },
    "papermill": {
     "duration": 0.032782,
     "end_time": "2023-04-03T08:30:58.045527",
     "exception": false,
     "start_time": "2023-04-03T08:30:58.012745",
     "status": "completed"
    },
    "tags": []
   },
   "outputs": [],
   "source": [
    "# def deb(models):\n",
    "#     x = torch.rand(1, 1, 256, 256)\n",
    "#     x = x.to(device)\n",
    "#     client_enc, server, client_dec = models\n",
    "#     x1, skip = uce_model(x)\n",
    "#     x2 = usw_model(x1)\n",
    "#     y_pred = ucd_model(x2, skip)\n",
    "#     print(y_pred.shape)\n",
    "    \n",
    "#     return y_pred, skip"
   ]
  },
  {
   "cell_type": "code",
   "execution_count": 33,
   "id": "f580d4e9",
   "metadata": {
    "execution": {
     "iopub.execute_input": "2023-04-03T08:30:58.093501Z",
     "iopub.status.busy": "2023-04-03T08:30:58.093162Z",
     "iopub.status.idle": "2023-04-03T08:30:58.102532Z",
     "shell.execute_reply": "2023-04-03T08:30:58.101665Z"
    },
    "papermill": {
     "duration": 0.036323,
     "end_time": "2023-04-03T08:30:58.105102",
     "exception": false,
     "start_time": "2023-04-03T08:30:58.068779",
     "status": "completed"
    },
    "tags": []
   },
   "outputs": [],
   "source": [
    "loss_fn = DiceBCELoss() # C\n",
    "\n",
    "ce_optimizer = torch.optim.Adam(uce_model.parameters(), lr=lr) # O\n",
    "sw_optimizer = torch.optim.Adam(usw_model.parameters(), lr=lr) # O\n",
    "cd_optimizer = torch.optim.Adam(ucd_model.parameters(), lr=lr) # O\n",
    "\n",
    "optimizers = [ce_optimizer, sw_optimizer, cd_optimizer]\n",
    "\n",
    "best_valid_loss = float(\"inf\")"
   ]
  },
  {
   "cell_type": "markdown",
   "id": "1c5f8a51",
   "metadata": {
    "papermill": {
     "duration": 0.022734,
     "end_time": "2023-04-03T08:30:58.151085",
     "exception": false,
     "start_time": "2023-04-03T08:30:58.128351",
     "status": "completed"
    },
    "tags": []
   },
   "source": [
    "## Training Loop"
   ]
  },
  {
   "cell_type": "code",
   "execution_count": 34,
   "id": "262aa9b2",
   "metadata": {
    "execution": {
     "iopub.execute_input": "2023-04-03T08:30:58.198206Z",
     "iopub.status.busy": "2023-04-03T08:30:58.197864Z",
     "iopub.status.idle": "2023-04-03T08:30:58.216489Z",
     "shell.execute_reply": "2023-04-03T08:30:58.215633Z"
    },
    "papermill": {
     "duration": 0.045048,
     "end_time": "2023-04-03T08:30:58.219024",
     "exception": false,
     "start_time": "2023-04-03T08:30:58.173976",
     "status": "completed"
    },
    "tags": []
   },
   "outputs": [],
   "source": [
    "def train(models, loader, optimizer, loss_fn, metric_fn, device): # This does it for only one epoch\n",
    "    \n",
    "#     print(device)\n",
    "    client_enc, server, client_dec = models\n",
    "    ce_optimizer, sw_optimizer, cd_optimizer = optimizers\n",
    "    \n",
    "    epoch_loss = 0.0\n",
    "    metrics_score = [0.0, 0.0, 0.0, 0.0, 0.0]\n",
    "    steps = len(loader)\n",
    "    \n",
    "    client_enc.train()\n",
    "    server.train()\n",
    "    client_dec.train()\n",
    "    \n",
    "    for i, (x, y) in enumerate (loader):\n",
    "        x = x.to(device)\n",
    "        y = y.to(device)\n",
    "#         print(type(x))\n",
    "\n",
    "        ce_optimizer.zero_grad() # Z\n",
    "        sw_optimizer.zero_grad() # Z\n",
    "        cd_optimizer.zero_grad() # Z\n",
    "#       __________________________________________________________________\n",
    "        activations, skips = client_enc(x) # P1\n",
    "        \n",
    "        server_inputs = activations.detach().clone()\n",
    "        server_inputs = Variable(server_inputs, requires_grad = True)\n",
    "        \n",
    "        client_inputs = [[] for _ in range(len(skips))]\n",
    "        \n",
    "        i = 0\n",
    "        for s in skips:\n",
    "            client_inputs[i] = s.detach().clone()\n",
    "            client_inputs[i] = Variable(client_inputs[i], requires_grad = True)\n",
    "            i = i + 1\n",
    "#       __________________________________\n",
    "        server_outputs = server(server_inputs) # P2\n",
    "    \n",
    "        server_inputs_2 = server_outputs.detach().clone()\n",
    "        server_inputs_2 = Variable(server_inputs_2, requires_grad = True)\n",
    "#       __________________________________\n",
    "        y_pred = client_dec(server_inputs_2, client_inputs) # P3\n",
    "#       __________________________________________________________________\n",
    "    \n",
    "        loss = loss_fn(y_pred, y) # L \n",
    "        \n",
    "#       __________________________________________________________________\n",
    "        loss.backward() # B1\n",
    "        cd_optimizer.step() # S1\n",
    "        \n",
    "        server_outputs.backward(server_inputs_2.grad) # B2\n",
    "        sw_optimizer.step() # S2\n",
    "        \n",
    "        activations.backward(server_inputs.grad) # B3\n",
    "        ce_optimizer.step() # S3\n",
    "#       __________________________________________________________________\n",
    "                \n",
    "        epoch_loss += loss.item()\n",
    "        \n",
    "        score = metric_fn(y_pred, y)\n",
    "        metrics_score = list(map(add, metrics_score, score))\n",
    "        \n",
    "        sys.stdout.flush()\n",
    "        sys.stdout.write('\\r Step: [%2d/%2d], loss: %.4f - acc: %.4f' % (i, steps, loss.item(), score[1]))\n",
    "    sys.stdout.write('\\r')\n",
    "\n",
    "    epoch_loss = epoch_loss/len(loader)\n",
    "    \n",
    "    epoch_jaccard = metrics_score[0]/len(loader)\n",
    "    epoch_acc = metrics_score[1]/len(loader)\n",
    "    \n",
    "    return epoch_loss, epoch_jaccard, epoch_acc"
   ]
  },
  {
   "cell_type": "markdown",
   "id": "230b5653",
   "metadata": {
    "papermill": {
     "duration": 0.022743,
     "end_time": "2023-04-03T08:30:58.265119",
     "exception": false,
     "start_time": "2023-04-03T08:30:58.242376",
     "status": "completed"
    },
    "tags": []
   },
   "source": [
    "## Evaluation"
   ]
  },
  {
   "cell_type": "code",
   "execution_count": 35,
   "id": "b6e56528",
   "metadata": {
    "execution": {
     "iopub.execute_input": "2023-04-03T08:30:58.312741Z",
     "iopub.status.busy": "2023-04-03T08:30:58.312411Z",
     "iopub.status.idle": "2023-04-03T08:30:58.324313Z",
     "shell.execute_reply": "2023-04-03T08:30:58.323353Z"
    },
    "papermill": {
     "duration": 0.038348,
     "end_time": "2023-04-03T08:30:58.326999",
     "exception": false,
     "start_time": "2023-04-03T08:30:58.288651",
     "status": "completed"
    },
    "tags": []
   },
   "outputs": [],
   "source": [
    "def evaluate(models, loader, loss_fn, metric_fn, device):\n",
    "    \n",
    "    client_enc, server, client_dec = models\n",
    "    \n",
    "    epoch_loss = 0.0\n",
    "    metrics_score = [0.0, 0.0, 0.0, 0.0, 0.0]\n",
    "\n",
    "    client_enc.eval()\n",
    "    server.eval()\n",
    "    client_dec.eval()\n",
    "    \n",
    "    with torch.no_grad():\n",
    "        for x, y in loader:\n",
    "            x = x.to(device)\n",
    "            y = y.to(device)\n",
    "\n",
    "#             y_pred = model(x)\n",
    "            x1, skip = uce_model(x)\n",
    "            x2 = usw_model(x1)\n",
    "            y_pred = ucd_model(x2, skip)\n",
    "            \n",
    "            \n",
    "            loss = loss_fn(y_pred, y)\n",
    "            \n",
    "            score = metric_fn(y_pred, y)\n",
    "            metrics_score = list(map(add, metrics_score, score))\n",
    "            \n",
    "            epoch_loss += loss.item()\n",
    "\n",
    "        epoch_loss = epoch_loss / len(loader)\n",
    "        \n",
    "        epoch_jaccard = metrics_score[0] / len(loader)\n",
    "#         epoch_f1 = metrics_score[1] / len(loader)\n",
    "        epoch_acc = metrics_score[1] / len(loader)\n",
    "    \n",
    "    return epoch_loss, epoch_jaccard, epoch_acc"
   ]
  },
  {
   "cell_type": "code",
   "execution_count": 36,
   "id": "f8e24335",
   "metadata": {
    "execution": {
     "iopub.execute_input": "2023-04-03T08:30:58.385510Z",
     "iopub.status.busy": "2023-04-03T08:30:58.384369Z",
     "iopub.status.idle": "2023-04-03T08:30:58.392196Z",
     "shell.execute_reply": "2023-04-03T08:30:58.391157Z"
    },
    "papermill": {
     "duration": 0.042977,
     "end_time": "2023-04-03T08:30:58.394350",
     "exception": false,
     "start_time": "2023-04-03T08:30:58.351373",
     "status": "completed"
    },
    "tags": []
   },
   "outputs": [],
   "source": [
    "torch.cuda.empty_cache()"
   ]
  },
  {
   "cell_type": "code",
   "execution_count": 37,
   "id": "4b0ca899",
   "metadata": {
    "execution": {
     "iopub.execute_input": "2023-04-03T08:30:58.427366Z",
     "iopub.status.busy": "2023-04-03T08:30:58.426713Z",
     "iopub.status.idle": "2023-04-03T08:30:58.431655Z",
     "shell.execute_reply": "2023-04-03T08:30:58.430674Z"
    },
    "papermill": {
     "duration": 0.023792,
     "end_time": "2023-04-03T08:30:58.433702",
     "exception": false,
     "start_time": "2023-04-03T08:30:58.409910",
     "status": "completed"
    },
    "tags": []
   },
   "outputs": [],
   "source": [
    "def epoch_time(start_time, end_time):\n",
    "    elapsed_time = end_time - start_time\n",
    "    elapsed_mins = int(elapsed_time / 60)\n",
    "    elapsed_secs = int(elapsed_time - (elapsed_mins * 60))\n",
    "    return elapsed_mins, elapsed_secs"
   ]
  },
  {
   "cell_type": "code",
   "execution_count": 38,
   "id": "f91d71c9",
   "metadata": {
    "execution": {
     "iopub.execute_input": "2023-04-03T08:30:58.467404Z",
     "iopub.status.busy": "2023-04-03T08:30:58.466380Z",
     "iopub.status.idle": "2023-04-03T08:30:58.501974Z",
     "shell.execute_reply": "2023-04-03T08:30:58.501093Z"
    },
    "papermill": {
     "duration": 0.054341,
     "end_time": "2023-04-03T08:30:58.503985",
     "exception": false,
     "start_time": "2023-04-03T08:30:58.449644",
     "status": "completed"
    },
    "tags": []
   },
   "outputs": [],
   "source": [
    "tzInfo = pytz.timezone('Asia/Kolkata')\n",
    "dt = str(datetime.datetime.now(tz=tzInfo))"
   ]
  },
  {
   "cell_type": "markdown",
   "id": "192a7eda",
   "metadata": {
    "papermill": {
     "duration": 0.0154,
     "end_time": "2023-04-03T08:30:58.535080",
     "exception": false,
     "start_time": "2023-04-03T08:30:58.519680",
     "status": "completed"
    },
    "tags": []
   },
   "source": [
    "# Run (Training Loop, Eval + Save Model)"
   ]
  },
  {
   "cell_type": "code",
   "execution_count": 39,
   "id": "b441f618",
   "metadata": {
    "execution": {
     "iopub.execute_input": "2023-04-03T08:30:58.568303Z",
     "iopub.status.busy": "2023-04-03T08:30:58.567563Z",
     "iopub.status.idle": "2023-04-03T08:30:58.578121Z",
     "shell.execute_reply": "2023-04-03T08:30:58.577114Z"
    },
    "papermill": {
     "duration": 0.029571,
     "end_time": "2023-04-03T08:30:58.580256",
     "exception": false,
     "start_time": "2023-04-03T08:30:58.550685",
     "status": "completed"
    },
    "tags": []
   },
   "outputs": [],
   "source": [
    "def fit (models, train_dl, valid_dl, optimizers, epochs, loss_fn, metric_fn, checkpoint_PATH):\n",
    "    \"\"\" fiting model to dataloaders, saving best weights and showing results \"\"\"\n",
    "    losses, val_losses, accs, val_accs = [], [], [], []\n",
    "    jaccards, val_jaccards = [], []\n",
    "    best_val_loss = float(\"inf\")\n",
    "    \n",
    "    since = time.time()\n",
    "    for epoch in range (epochs):\n",
    "        ts = time.time()\n",
    "        \n",
    "        loss, jaccard, acc = train(models, train_dl, optimizers, loss_fn, metric_fn, device) # This is just Training with Extra Steps!! (Logging loss etc.)\n",
    "        val_loss, val_jaccard, val_acc = evaluate(models, valid_dl, loss_fn, metric_fn, device)\n",
    "\n",
    "        \n",
    "        losses.append(loss)\n",
    "        accs.append(acc)\n",
    "        jaccards.append(jaccard)\n",
    "        \n",
    "        val_losses.append(val_loss)\n",
    "        val_accs.append(val_acc)\n",
    "        val_jaccards.append(val_jaccard)\n",
    "        \n",
    "        te = time.time()\n",
    "        \n",
    "        if val_loss < best_val_loss:\n",
    "            data_str = f\"===> Valid loss improved from {best_val_loss:2.4f} to {val_loss:2.4f}. Saving checkpoint: {checkpoint_PATH}\"\n",
    "            print(data_str)\n",
    "            best_val_loss = val_loss\n",
    "            torch.save(models[0].state_dict(), checkpoint_PATH + \"_client_encoder.pth\")\n",
    "            torch.save(models[1].state_dict(), checkpoint_PATH + \"_server.pth\")\n",
    "            torch.save(models[2].state_dict(), checkpoint_PATH + \"_client_decoder.pth\")\n",
    "\n",
    "        epoch_mins, epoch_secs = epoch_time(ts, te)\n",
    "        \n",
    "        print ('Epoch [{}/{}], loss: {:.4f} - jaccard: {:.4f} - acc: {:.4f} - val_loss: {:.4f} - val_jaccard: {:.4f} - val_acc: {:.4f}'.format (epoch + 1, epochs, loss, jaccard, acc, val_loss, val_jaccard, val_acc))\n",
    "        print(f'Time: {epoch_mins}m {epoch_secs}s')\n",
    "        \n",
    "    period = time.time() - since\n",
    "    print('Training complete in {:.0f}m {:.0f}s'.format(period // 60, period % 60))\n",
    "\n",
    "    return dict(loss = losses, val_loss = val_losses, acc = accs, val_acc = val_accs, jaccard = jaccards, val_jaccard = val_jaccards, time = period)"
   ]
  },
  {
   "cell_type": "code",
   "execution_count": 40,
   "id": "b478265d",
   "metadata": {
    "execution": {
     "iopub.execute_input": "2023-04-03T08:30:58.614054Z",
     "iopub.status.busy": "2023-04-03T08:30:58.612599Z",
     "iopub.status.idle": "2023-04-03T08:30:58.619242Z",
     "shell.execute_reply": "2023-04-03T08:30:58.618319Z"
    },
    "papermill": {
     "duration": 0.025567,
     "end_time": "2023-04-03T08:30:58.621287",
     "exception": false,
     "start_time": "2023-04-03T08:30:58.595720",
     "status": "completed"
    },
    "tags": []
   },
   "outputs": [
    {
     "data": {
      "text/plain": [
       "10"
      ]
     },
     "execution_count": 40,
     "metadata": {},
     "output_type": "execute_result"
    }
   ],
   "source": [
    "epochs"
   ]
  },
  {
   "cell_type": "code",
   "execution_count": 41,
   "id": "4d7fec74",
   "metadata": {
    "execution": {
     "iopub.execute_input": "2023-04-03T08:30:58.655138Z",
     "iopub.status.busy": "2023-04-03T08:30:58.653684Z",
     "iopub.status.idle": "2023-04-03T08:30:58.659973Z",
     "shell.execute_reply": "2023-04-03T08:30:58.659103Z"
    },
    "papermill": {
     "duration": 0.02516,
     "end_time": "2023-04-03T08:30:58.662059",
     "exception": false,
     "start_time": "2023-04-03T08:30:58.636899",
     "status": "completed"
    },
    "tags": []
   },
   "outputs": [
    {
     "data": {
      "text/plain": [
       "1"
      ]
     },
     "execution_count": 41,
     "metadata": {},
     "output_type": "execute_result"
    }
   ],
   "source": [
    "cut_layer"
   ]
  },
  {
   "cell_type": "code",
   "execution_count": 42,
   "id": "ecaa3e6d",
   "metadata": {
    "execution": {
     "iopub.execute_input": "2023-04-03T08:30:58.695776Z",
     "iopub.status.busy": "2023-04-03T08:30:58.694365Z",
     "iopub.status.idle": "2023-04-03T08:30:58.700830Z",
     "shell.execute_reply": "2023-04-03T08:30:58.699719Z"
    },
    "papermill": {
     "duration": 0.025108,
     "end_time": "2023-04-03T08:30:58.702959",
     "exception": false,
     "start_time": "2023-04-03T08:30:58.677851",
     "status": "completed"
    },
    "tags": []
   },
   "outputs": [
    {
     "data": {
      "text/plain": [
       "device(type='cuda')"
      ]
     },
     "execution_count": 42,
     "metadata": {},
     "output_type": "execute_result"
    }
   ],
   "source": [
    "device"
   ]
  },
  {
   "cell_type": "code",
   "execution_count": 43,
   "id": "4536ba93",
   "metadata": {
    "execution": {
     "iopub.execute_input": "2023-04-03T08:30:58.736276Z",
     "iopub.status.busy": "2023-04-03T08:30:58.735738Z",
     "iopub.status.idle": "2023-04-03T09:01:58.971989Z",
     "shell.execute_reply": "2023-04-03T09:01:58.969967Z"
    },
    "papermill": {
     "duration": 1860.255686,
     "end_time": "2023-04-03T09:01:58.974410",
     "exception": false,
     "start_time": "2023-04-03T08:30:58.718724",
     "status": "completed"
    },
    "tags": []
   },
   "outputs": [
    {
     "name": "stdout",
     "output_type": "stream",
     "text": [
      "===> Valid loss improved from inf to 0.4822. Saving checkpoint: unet_split_cut_layer_1_704_images_10_epochs\n",
      "Epoch [1/10], loss: 0.6470 - jaccard: 0.8092 - acc: 0.9470 - val_loss: 0.4822 - val_jaccard: 0.8959 - val_acc: 0.9732\n",
      "Time: 3m 44s\n",
      "===> Valid loss improved from 0.4822 to 0.4291. Saving checkpoint: unet_split_cut_layer_1_704_images_10_epochs\n",
      "Epoch [2/10], loss: 0.4543 - jaccard: 0.9093 - acc: 0.9760 - val_loss: 0.4291 - val_jaccard: 0.9129 - val_acc: 0.9776\n",
      "Time: 3m 0s\n",
      "===> Valid loss improved from 0.4291 to 0.3611. Saving checkpoint: unet_split_cut_layer_1_704_images_10_epochs\n",
      "Epoch [3/10], loss: 0.3893 - jaccard: 0.9204 - acc: 0.9790 - val_loss: 0.3611 - val_jaccard: 0.9287 - val_acc: 0.9817\n",
      "Time: 3m 0s\n",
      "===> Valid loss improved from 0.3611 to 0.3223. Saving checkpoint: unet_split_cut_layer_1_704_images_10_epochs\n",
      "Epoch [4/10], loss: 0.3412 - jaccard: 0.9255 - acc: 0.9803 - val_loss: 0.3223 - val_jaccard: 0.9269 - val_acc: 0.9813\n",
      "Time: 3m 0s\n",
      "===> Valid loss improved from 0.3223 to 0.2971. Saving checkpoint: unet_split_cut_layer_1_704_images_10_epochs\n",
      "Epoch [5/10], loss: 0.3031 - jaccard: 0.9268 - acc: 0.9808 - val_loss: 0.2971 - val_jaccard: 0.9283 - val_acc: 0.9817\n",
      "Time: 3m 2s\n",
      "Epoch [6/10], loss: 0.2755 - jaccard: 0.9259 - acc: 0.9806 - val_loss: 0.4334 - val_jaccard: 0.7637 - val_acc: 0.9397\n",
      "Time: 3m 1s\n",
      "===> Valid loss improved from 0.2971 to 0.2360. Saving checkpoint: unet_split_cut_layer_1_704_images_10_epochs\n",
      "Epoch [7/10], loss: 0.2524 - jaccard: 0.9244 - acc: 0.9801 - val_loss: 0.2360 - val_jaccard: 0.9302 - val_acc: 0.9822\n",
      "Time: 3m 1s\n",
      "===> Valid loss improved from 0.2360 to 0.2244. Saving checkpoint: unet_split_cut_layer_1_704_images_10_epochs\n",
      "Epoch [8/10], loss: 0.2260 - jaccard: 0.9302 - acc: 0.9817 - val_loss: 0.2244 - val_jaccard: 0.9298 - val_acc: 0.9822\n",
      "Time: 3m 1s\n",
      "===> Valid loss improved from 0.2244 to 0.2032. Saving checkpoint: unet_split_cut_layer_1_704_images_10_epochs\n",
      "Epoch [9/10], loss: 0.2097 - jaccard: 0.9290 - acc: 0.9814 - val_loss: 0.2032 - val_jaccard: 0.9298 - val_acc: 0.9823\n",
      "Time: 3m 1s\n",
      "===> Valid loss improved from 0.2032 to 0.1870. Saving checkpoint: unet_split_cut_layer_1_704_images_10_epochs\n",
      "Epoch [10/10], loss: 0.1929 - jaccard: 0.9313 - acc: 0.9820 - val_loss: 0.1870 - val_jaccard: 0.9314 - val_acc: 0.9826\n",
      "Time: 3m 0s\n",
      "Training complete in 31m 0s\n"
     ]
    }
   ],
   "source": [
    "res = fit(models, train_dl, valid_dl, optimizers, epochs, loss_fn, calculate_metrics, checkpoint_PATH)"
   ]
  },
  {
   "cell_type": "code",
   "execution_count": 44,
   "id": "0e1d6df4",
   "metadata": {
    "execution": {
     "iopub.execute_input": "2023-04-03T09:01:59.082906Z",
     "iopub.status.busy": "2023-04-03T09:01:59.081958Z",
     "iopub.status.idle": "2023-04-03T09:01:59.198690Z",
     "shell.execute_reply": "2023-04-03T09:01:59.197755Z"
    },
    "papermill": {
     "duration": 0.171903,
     "end_time": "2023-04-03T09:01:59.200711",
     "exception": false,
     "start_time": "2023-04-03T09:01:59.028808",
     "status": "completed"
    },
    "tags": []
   },
   "outputs": [],
   "source": [
    "import torch\n",
    "torch.cuda.empty_cache()"
   ]
  },
  {
   "cell_type": "markdown",
   "id": "b2258b0b",
   "metadata": {
    "papermill": {
     "duration": 0.051269,
     "end_time": "2023-04-03T09:01:59.303648",
     "exception": false,
     "start_time": "2023-04-03T09:01:59.252379",
     "status": "completed"
    },
    "tags": []
   },
   "source": [
    "## Log"
   ]
  },
  {
   "cell_type": "code",
   "execution_count": 45,
   "id": "8a0e1986",
   "metadata": {
    "execution": {
     "iopub.execute_input": "2023-04-03T09:01:59.408724Z",
     "iopub.status.busy": "2023-04-03T09:01:59.408390Z",
     "iopub.status.idle": "2023-04-03T09:01:59.412850Z",
     "shell.execute_reply": "2023-04-03T09:01:59.411835Z"
    },
    "papermill": {
     "duration": 0.059685,
     "end_time": "2023-04-03T09:01:59.414963",
     "exception": false,
     "start_time": "2023-04-03T09:01:59.355278",
     "status": "completed"
    },
    "tags": []
   },
   "outputs": [],
   "source": [
    "results_PATH = './'"
   ]
  },
  {
   "cell_type": "code",
   "execution_count": 46,
   "id": "0bf03a77",
   "metadata": {
    "execution": {
     "iopub.execute_input": "2023-04-03T09:01:59.520869Z",
     "iopub.status.busy": "2023-04-03T09:01:59.519870Z",
     "iopub.status.idle": "2023-04-03T09:01:59.531871Z",
     "shell.execute_reply": "2023-04-03T09:01:59.530965Z"
    },
    "papermill": {
     "duration": 0.067487,
     "end_time": "2023-04-03T09:01:59.534039",
     "exception": false,
     "start_time": "2023-04-03T09:01:59.466552",
     "status": "completed"
    },
    "tags": []
   },
   "outputs": [],
   "source": [
    "results = {\"Num_Clients\":[],\"Cut_Layer\":[], \"Train_Images\": [],\"Val_Images\":[],\"Epochs\":[], \"Train_Time\":[], \"Datetime\":[], \n",
    "           \"Training_Accuracies\":[], \"Validation_Accuracies\": [],\n",
    "           \"Training_Losses\":[], \"Validation_Losses\":[],\n",
    "           \"Training_Jaccards\":[], \"Validation_Jaccards\":[],\n",
    "           \"Notes\":[]}\n",
    "\n",
    "df = pd.DataFrame(results)\n",
    "\n",
    "results_PATH = \"./results_unet.csv\"\n",
    "df.to_csv(results_PATH)"
   ]
  },
  {
   "cell_type": "code",
   "execution_count": 47,
   "id": "9acdb190",
   "metadata": {
    "execution": {
     "iopub.execute_input": "2023-04-03T09:01:59.639046Z",
     "iopub.status.busy": "2023-04-03T09:01:59.638684Z",
     "iopub.status.idle": "2023-04-03T09:01:59.647636Z",
     "shell.execute_reply": "2023-04-03T09:01:59.646594Z"
    },
    "papermill": {
     "duration": 0.063846,
     "end_time": "2023-04-03T09:01:59.649729",
     "exception": false,
     "start_time": "2023-04-03T09:01:59.585883",
     "status": "completed"
    },
    "tags": []
   },
   "outputs": [],
   "source": [
    "def update_results(result_PATH, d_new):\n",
    "    df = pd.read_csv(result_PATH, index_col=0)\n",
    "\n",
    "    d_existing = df.to_dict('list')\n",
    "    print(d_existing)\n",
    "    print()\n",
    "  # print(list(d_existing.keys()))\n",
    "  # print(d_existing)\n",
    "\n",
    "    for key in list(d_existing.keys()):\n",
    "        d_existing[key] = d_existing[key] + d_new[key]\n",
    "\n",
    "    ndf = pd.DataFrame(d_existing)\n",
    "    ndf.to_csv(result_PATH)\n",
    "\n",
    "    print(\"DONE!\")\n",
    "    print()\n",
    "\n",
    "    return d_existing\n",
    "\n",
    "def del_last_update(result_PATH, last_n = 1): \n",
    "    # last_n = 2 => Delete last 2 entries\n",
    "    df = pd.read_csv(result_PATH, index_col=0)\n",
    "    dic = df.to_dict('list')\n",
    "\n",
    "    for key in list(dic.keys()):\n",
    "        lis = dic[key]\n",
    "        if lis == []:\n",
    "            continue\n",
    "        dic[key] = lis[:len(lis)-last_n]\n",
    "\n",
    "    ndf = pd.DataFrame(dic)\n",
    "    ndf.to_csv(result_PATH)\n",
    "\n",
    "    print(\"DONE!\")\n",
    "\n",
    "    return dic"
   ]
  },
  {
   "cell_type": "code",
   "execution_count": 48,
   "id": "e596b0b9",
   "metadata": {
    "execution": {
     "iopub.execute_input": "2023-04-03T09:01:59.754769Z",
     "iopub.status.busy": "2023-04-03T09:01:59.754439Z",
     "iopub.status.idle": "2023-04-03T09:01:59.785299Z",
     "shell.execute_reply": "2023-04-03T09:01:59.783533Z"
    },
    "papermill": {
     "duration": 0.086443,
     "end_time": "2023-04-03T09:01:59.787714",
     "exception": false,
     "start_time": "2023-04-03T09:01:59.701271",
     "status": "completed"
    },
    "tags": []
   },
   "outputs": [
    {
     "name": "stdout",
     "output_type": "stream",
     "text": [
      "DONE!\n",
      "{'Num_Clients': [], 'Cut_Layer': [], 'Train_Images': [], 'Val_Images': [], 'Epochs': [], 'Train_Time': [], 'Datetime': [], 'Training_Accuracies': [], 'Validation_Accuracies': [], 'Training_Losses': [], 'Validation_Losses': [], 'Training_Jaccards': [], 'Validation_Jaccards': [], 'Notes': []}\n",
      "\n",
      "DONE!\n",
      "\n",
      "DONE!\n"
     ]
    }
   ],
   "source": [
    "results = {\"Num_Clients\":[],\"Cut_Layer\":[], \"Train_Images\": [],\"Val_Images\":[],\"Epochs\":[], \"Train_Time\":[], \"Datetime\":[], \n",
    "           \"Training_Accuracies\":[], \"Validation_Accuracies\": [],\n",
    "           \"Training_Losses\":[], \"Validation_Losses\":[],\n",
    "           \"Training_Jaccards\":[], \"Validation_Jaccards\":[],\n",
    "           \"Notes\":[]}\n",
    "\n",
    "\n",
    "\n",
    "results[\"Num_Clients\"].append(num_clients)\n",
    "results[\"Cut_Layer\"].append(cut_layer)\n",
    "results[\"Train_Images\"].append(int(0.8*train_images))\n",
    "results[\"Val_Images\"].append(int(train_images/5))\n",
    "results[\"Epochs\"].append(epochs)\n",
    "results[\"Train_Time\"].append(res['time'])\n",
    "\n",
    "results[\"Datetime\"].append(dt)\n",
    "\n",
    "results[\"Training_Losses\"].append(res['loss'])\n",
    "results[\"Validation_Losses\"].append(res['val_loss'])\n",
    "results[\"Training_Accuracies\"].append(res['acc'])\n",
    "results[\"Validation_Accuracies\"].append(res['val_acc'])\n",
    "results[\"Training_Jaccards\"].append(res['jaccard'])\n",
    "results[\"Validation_Jaccards\"].append(res['val_jaccard'])\n",
    "\n",
    "\n",
    "results[\"Notes\"].append(\"Small Trial\")\n",
    "\n",
    "del_last_update(results_PATH, last_n = 1)\n",
    "update_results(results_PATH, d_new = results)\n",
    "print(\"DONE!\")\n"
   ]
  },
  {
   "cell_type": "markdown",
   "id": "99733cec",
   "metadata": {
    "papermill": {
     "duration": 0.051958,
     "end_time": "2023-04-03T09:01:59.893868",
     "exception": false,
     "start_time": "2023-04-03T09:01:59.841910",
     "status": "completed"
    },
    "tags": []
   },
   "source": [
    "## Plot Graphs"
   ]
  },
  {
   "cell_type": "code",
   "execution_count": 49,
   "id": "d30d39bd",
   "metadata": {
    "execution": {
     "iopub.execute_input": "2023-04-03T09:02:00.000739Z",
     "iopub.status.busy": "2023-04-03T09:01:59.999677Z",
     "iopub.status.idle": "2023-04-03T09:02:00.007846Z",
     "shell.execute_reply": "2023-04-03T09:02:00.006801Z"
    },
    "papermill": {
     "duration": 0.064256,
     "end_time": "2023-04-03T09:02:00.010006",
     "exception": false,
     "start_time": "2023-04-03T09:01:59.945750",
     "status": "completed"
    },
    "tags": []
   },
   "outputs": [],
   "source": [
    "def plot_acc_loss (loss, val_loss, acc, val_acc):\n",
    "    \"\"\" plot training and validation loss and accuracy \"\"\"\n",
    "    plt.figure (figsize = (12, 4))\n",
    "    plt.subplot (1, 2, 1)\n",
    "    plt.plot (range (len (loss)), loss, 'b-', label = 'Training')\n",
    "    plt.plot (range (len (loss)), val_loss, 'bo-', label = 'Validation')\n",
    "    plt.xlabel ('Epochs')\n",
    "    plt.ylabel ('Loss')\n",
    "    plt.title ('Loss')\n",
    "    plt.legend ()\n",
    "\n",
    "    plt.subplot (1, 2, 2)\n",
    "    plt.plot (range (len (acc)), acc, 'b-', label = 'Training')\n",
    "    plt.plot (range (len (acc)), val_acc, 'bo-', label = 'Validation')\n",
    "    plt.xlabel ('Epochs')\n",
    "    plt.ylabel ('accuracy')\n",
    "    plt.title ('Accuracy')\n",
    "    plt.legend ()\n",
    "\n",
    "    plt.show ()"
   ]
  },
  {
   "cell_type": "code",
   "execution_count": 50,
   "id": "4379fdf8",
   "metadata": {
    "execution": {
     "iopub.execute_input": "2023-04-03T09:02:00.116681Z",
     "iopub.status.busy": "2023-04-03T09:02:00.115824Z",
     "iopub.status.idle": "2023-04-03T09:02:00.136988Z",
     "shell.execute_reply": "2023-04-03T09:02:00.135776Z"
    },
    "papermill": {
     "duration": 0.076013,
     "end_time": "2023-04-03T09:02:00.139285",
     "exception": false,
     "start_time": "2023-04-03T09:02:00.063272",
     "status": "completed"
    },
    "tags": []
   },
   "outputs": [
    {
     "data": {
      "text/html": [
       "<div>\n",
       "<style scoped>\n",
       "    .dataframe tbody tr th:only-of-type {\n",
       "        vertical-align: middle;\n",
       "    }\n",
       "\n",
       "    .dataframe tbody tr th {\n",
       "        vertical-align: top;\n",
       "    }\n",
       "\n",
       "    .dataframe thead th {\n",
       "        text-align: right;\n",
       "    }\n",
       "</style>\n",
       "<table border=\"1\" class=\"dataframe\">\n",
       "  <thead>\n",
       "    <tr style=\"text-align: right;\">\n",
       "      <th></th>\n",
       "      <th>Unnamed: 0</th>\n",
       "      <th>Num_Clients</th>\n",
       "      <th>Cut_Layer</th>\n",
       "      <th>Train_Images</th>\n",
       "      <th>Val_Images</th>\n",
       "      <th>Epochs</th>\n",
       "      <th>Train_Time</th>\n",
       "      <th>Datetime</th>\n",
       "      <th>Training_Accuracies</th>\n",
       "      <th>Validation_Accuracies</th>\n",
       "      <th>Training_Losses</th>\n",
       "      <th>Validation_Losses</th>\n",
       "      <th>Training_Jaccards</th>\n",
       "      <th>Validation_Jaccards</th>\n",
       "      <th>Notes</th>\n",
       "    </tr>\n",
       "  </thead>\n",
       "  <tbody>\n",
       "    <tr>\n",
       "      <th>0</th>\n",
       "      <td>0</td>\n",
       "      <td>1</td>\n",
       "      <td>1</td>\n",
       "      <td>563</td>\n",
       "      <td>140</td>\n",
       "      <td>10</td>\n",
       "      <td>1860.22804</td>\n",
       "      <td>2023-04-03 14:00:58.499695+05:30</td>\n",
       "      <td>[0.9470229260798351, 0.9760110881966604, 0.978...</td>\n",
       "      <td>[0.9732163959079317, 0.9776314417521159, 0.981...</td>\n",
       "      <td>[0.647034700907452, 0.45426163161304633, 0.389...</td>\n",
       "      <td>[0.48222119609514874, 0.42911337812741596, 0.3...</td>\n",
       "      <td>[0.8091623603143284, 0.9092703793912152, 0.920...</td>\n",
       "      <td>[0.8959394291445056, 0.9129045050771134, 0.928...</td>\n",
       "      <td>Small Trial</td>\n",
       "    </tr>\n",
       "  </tbody>\n",
       "</table>\n",
       "</div>"
      ],
      "text/plain": [
       "   Unnamed: 0  Num_Clients  Cut_Layer  Train_Images  Val_Images  Epochs  \\\n",
       "0           0            1          1           563         140      10   \n",
       "\n",
       "   Train_Time                          Datetime  \\\n",
       "0  1860.22804  2023-04-03 14:00:58.499695+05:30   \n",
       "\n",
       "                                 Training_Accuracies  \\\n",
       "0  [0.9470229260798351, 0.9760110881966604, 0.978...   \n",
       "\n",
       "                               Validation_Accuracies  \\\n",
       "0  [0.9732163959079317, 0.9776314417521159, 0.981...   \n",
       "\n",
       "                                     Training_Losses  \\\n",
       "0  [0.647034700907452, 0.45426163161304633, 0.389...   \n",
       "\n",
       "                                   Validation_Losses  \\\n",
       "0  [0.48222119609514874, 0.42911337812741596, 0.3...   \n",
       "\n",
       "                                   Training_Jaccards  \\\n",
       "0  [0.8091623603143284, 0.9092703793912152, 0.920...   \n",
       "\n",
       "                                 Validation_Jaccards        Notes  \n",
       "0  [0.8959394291445056, 0.9129045050771134, 0.928...  Small Trial  "
      ]
     },
     "execution_count": 50,
     "metadata": {},
     "output_type": "execute_result"
    }
   ],
   "source": [
    "dd = pd.read_csv(results_PATH)\n",
    "dd.head()"
   ]
  },
  {
   "cell_type": "code",
   "execution_count": 51,
   "id": "603b6c4b",
   "metadata": {
    "execution": {
     "iopub.execute_input": "2023-04-03T09:02:00.248293Z",
     "iopub.status.busy": "2023-04-03T09:02:00.247441Z",
     "iopub.status.idle": "2023-04-03T09:02:00.254213Z",
     "shell.execute_reply": "2023-04-03T09:02:00.253252Z"
    },
    "papermill": {
     "duration": 0.061287,
     "end_time": "2023-04-03T09:02:00.256234",
     "exception": false,
     "start_time": "2023-04-03T09:02:00.194947",
     "status": "completed"
    },
    "tags": []
   },
   "outputs": [
    {
     "data": {
      "text/plain": [
       "[0.8091623603143284,\n",
       " 0.9092703793912152,\n",
       " 0.9203716869190751,\n",
       " 0.9255267641050614,\n",
       " 0.9267774254307957,\n",
       " 0.9259042345090488,\n",
       " 0.9243666198999385,\n",
       " 0.9302137429261245,\n",
       " 0.9290440047540347,\n",
       " 0.9313014379448846]"
      ]
     },
     "execution_count": 51,
     "metadata": {},
     "output_type": "execute_result"
    }
   ],
   "source": [
    "res['jaccard']"
   ]
  },
  {
   "cell_type": "code",
   "execution_count": 52,
   "id": "7febb33c",
   "metadata": {
    "execution": {
     "iopub.execute_input": "2023-04-03T09:02:00.364241Z",
     "iopub.status.busy": "2023-04-03T09:02:00.363342Z",
     "iopub.status.idle": "2023-04-03T09:02:00.666346Z",
     "shell.execute_reply": "2023-04-03T09:02:00.665386Z"
    },
    "papermill": {
     "duration": 0.360744,
     "end_time": "2023-04-03T09:02:00.668711",
     "exception": false,
     "start_time": "2023-04-03T09:02:00.307967",
     "status": "completed"
    },
    "tags": []
   },
   "outputs": [
    {
     "data": {
      "image/png": "[encoded data removed]",
      "text/plain": [
       "<Figure size 1200x400 with 2 Axes>"
      ]
     },
     "metadata": {},
     "output_type": "display_data"
    }
   ],
   "source": [
    "loss, val_loss = res['loss'], res['val_loss']\n",
    "acc, val_acc = res['acc'], res['val_acc']\n",
    "plot_acc_loss (loss, val_loss, acc, val_acc)"
   ]
  },
  {
   "cell_type": "markdown",
   "id": "0d531a68",
   "metadata": {
    "papermill": {
     "duration": 0.052665,
     "end_time": "2023-04-03T09:02:00.775021",
     "exception": false,
     "start_time": "2023-04-03T09:02:00.722356",
     "status": "completed"
    },
    "tags": []
   },
   "source": [
    "# Verify the Model"
   ]
  },
  {
   "cell_type": "code",
   "execution_count": 53,
   "id": "0959c559",
   "metadata": {
    "execution": {
     "iopub.execute_input": "2023-04-03T09:02:00.882096Z",
     "iopub.status.busy": "2023-04-03T09:02:00.881760Z",
     "iopub.status.idle": "2023-04-03T09:02:00.889415Z",
     "shell.execute_reply": "2023-04-03T09:02:00.888317Z"
    },
    "papermill": {
     "duration": 0.064094,
     "end_time": "2023-04-03T09:02:00.891905",
     "exception": false,
     "start_time": "2023-04-03T09:02:00.827811",
     "status": "completed"
    },
    "tags": []
   },
   "outputs": [],
   "source": [
    "def model_loader(checkpoint_PATH, mod):\n",
    "    \n",
    "    if mod == True:\n",
    "        uce_model = Unet_Client_Encoder_Mod(input_channel=1, output_channel=1, cut_layer = cut_layer) # M\n",
    "        usw_model = Unet_Server_Widow_Mod(input_channel=1, output_channel=1, cut_layer = cut_layer) # M\n",
    "        ucd_model = Unet_Client_Decoder_Mod(input_channel=1, output_channel=1, cut_layer = cut_layer) # M\n",
    "        \n",
    "    else:\n",
    "        uce_model = Unet_Client_Encoder(input_channel=1, output_channel=1) # M\n",
    "        usw_model = Unet_Server_Widow(input_channel=1, output_channel=1) # M\n",
    "        ucd_model = Unet_Client_Decoder(input_channel=1, output_channel=1) # M\n",
    "    \n",
    "    uce_model.load_state_dict(torch.load(checkpoint_PATH + \"_client_encoder.pth\")) \n",
    "    usw_model.load_state_dict(torch.load(checkpoint_PATH + \"_server.pth\")) \n",
    "    ucd_model.load_state_dict(torch.load(checkpoint_PATH + \"_client_decoder.pth\")) \n",
    "    \n",
    "    uce_model = uce_model.to(device) # M\n",
    "    usw_model = usw_model.to(device) # M\n",
    "    ucd_model = ucd_model.to(device) # M\n",
    "\n",
    "    models = [uce_model, usw_model, ucd_model]\n",
    "    \n",
    "    \n",
    "    return models"
   ]
  },
  {
   "cell_type": "code",
   "execution_count": 54,
   "id": "72fcef23",
   "metadata": {
    "execution": {
     "iopub.execute_input": "2023-04-03T09:02:00.998643Z",
     "iopub.status.busy": "2023-04-03T09:02:00.998347Z",
     "iopub.status.idle": "2023-04-03T09:02:01.004628Z",
     "shell.execute_reply": "2023-04-03T09:02:01.003762Z"
    },
    "papermill": {
     "duration": 0.062497,
     "end_time": "2023-04-03T09:02:01.006708",
     "exception": false,
     "start_time": "2023-04-03T09:02:00.944211",
     "status": "completed"
    },
    "tags": []
   },
   "outputs": [],
   "source": [
    "def united_model(checkpoint_PATH, x, mod): # Given the Models and input, return the prediction\n",
    "    \n",
    "    models = model_loader(checkpoint_PATH, mod)\n",
    "    \n",
    "    client_enc, server, client_dec = models\n",
    "    \n",
    "    x1, skip = uce_model(x) # Client Encoder\n",
    "    x2 = usw_model(x1) # Server (Black Widow Symbol)\n",
    "    y_pred = ucd_model(x2, skip) # Client Decoder\n",
    "    \n",
    "    return y_pred\n",
    "    "
   ]
  },
  {
   "cell_type": "code",
   "execution_count": 55,
   "id": "dd398004",
   "metadata": {
    "execution": {
     "iopub.execute_input": "2023-04-03T09:02:01.113194Z",
     "iopub.status.busy": "2023-04-03T09:02:01.112907Z",
     "iopub.status.idle": "2023-04-03T09:02:03.438426Z",
     "shell.execute_reply": "2023-04-03T09:02:03.437376Z"
    },
    "papermill": {
     "duration": 2.381653,
     "end_time": "2023-04-03T09:02:03.440819",
     "exception": false,
     "start_time": "2023-04-03T09:02:01.059166",
     "status": "completed"
    },
    "tags": []
   },
   "outputs": [],
   "source": [
    "with torch.no_grad():\n",
    "    for x, y in valid_dl:\n",
    "        x = x.to(device, dtype=torch.float32)\n",
    "        y = y.to(device, dtype=torch.float32)\n",
    "\n",
    "        y_pred = united_model(checkpoint_PATH, x, mod = mod)\n",
    "        break"
   ]
  },
  {
   "cell_type": "code",
   "execution_count": 56,
   "id": "8d0d3226",
   "metadata": {
    "execution": {
     "iopub.execute_input": "2023-04-03T09:02:03.551148Z",
     "iopub.status.busy": "2023-04-03T09:02:03.549870Z",
     "iopub.status.idle": "2023-04-03T09:02:03.559134Z",
     "shell.execute_reply": "2023-04-03T09:02:03.558080Z"
    },
    "papermill": {
     "duration": 0.066593,
     "end_time": "2023-04-03T09:02:03.561492",
     "exception": false,
     "start_time": "2023-04-03T09:02:03.494899",
     "status": "completed"
    },
    "tags": []
   },
   "outputs": [
    {
     "data": {
      "text/plain": [
       "((8, 1, 256, 256), (8, 1, 256, 256))"
      ]
     },
     "execution_count": 56,
     "metadata": {},
     "output_type": "execute_result"
    }
   ],
   "source": [
    "pred = y_pred.cpu().numpy()\n",
    "ynum = y.cpu().numpy()\n",
    "\n",
    "pred.shape, ynum.shape"
   ]
  },
  {
   "cell_type": "code",
   "execution_count": 57,
   "id": "c9252a66",
   "metadata": {
    "execution": {
     "iopub.execute_input": "2023-04-03T09:02:03.679327Z",
     "iopub.status.busy": "2023-04-03T09:02:03.678335Z",
     "iopub.status.idle": "2023-04-03T09:02:03.687647Z",
     "shell.execute_reply": "2023-04-03T09:02:03.686602Z"
    },
    "papermill": {
     "duration": 0.066785,
     "end_time": "2023-04-03T09:02:03.689734",
     "exception": false,
     "start_time": "2023-04-03T09:02:03.622949",
     "status": "completed"
    },
    "tags": []
   },
   "outputs": [
    {
     "data": {
      "text/plain": [
       "((8, 256, 256), (8, 256, 256))"
      ]
     },
     "execution_count": 57,
     "metadata": {},
     "output_type": "execute_result"
    }
   ],
   "source": [
    "pred = pred.reshape(len(pred), dim, dim)\n",
    "ynum = ynum.reshape(len(ynum), dim, dim)\n",
    "\n",
    "pred = pred > 0.5\n",
    "pred = np.array(pred, dtype=np.uint8)\n",
    "\n",
    "ynum = ynum > 0.5\n",
    "ynum = np.array(ynum, dtype=np.uint8)\n",
    "\n",
    "pred.shape, ynum.shape"
   ]
  },
  {
   "cell_type": "code",
   "execution_count": 58,
   "id": "66eb3a19",
   "metadata": {
    "execution": {
     "iopub.execute_input": "2023-04-03T09:02:03.806451Z",
     "iopub.status.busy": "2023-04-03T09:02:03.806137Z",
     "iopub.status.idle": "2023-04-03T09:02:04.151201Z",
     "shell.execute_reply": "2023-04-03T09:02:04.149964Z"
    },
    "papermill": {
     "duration": 0.403689,
     "end_time": "2023-04-03T09:02:04.153472",
     "exception": false,
     "start_time": "2023-04-03T09:02:03.749783",
     "status": "completed"
    },
    "tags": []
   },
   "outputs": [
    {
     "data": {
      "text/plain": [
       "<matplotlib.image.AxesImage at 0x7f00b13bcd90>"
      ]
     },
     "execution_count": 58,
     "metadata": {},
     "output_type": "execute_result"
    },
    {
     "data": {
      "image/png": "[encoded data removed]",
      "text/plain": [
       "<Figure size 1200x400 with 2 Axes>"
      ]
     },
     "metadata": {},
     "output_type": "display_data"
    }
   ],
   "source": [
    "index = np.random.choice (len (pred))\n",
    "\n",
    "plt.figure(figsize = (12, 4))\n",
    "\n",
    "plt.subplot(1, 2, 1)\n",
    "plt.title(\"PREDICTED\")\n",
    "plt.imshow(pred[index], cmap='gray')\n",
    "\n",
    "plt.subplot(1, 2, 2)\n",
    "plt.title(\"ACTUAL\")\n",
    "plt.imshow(ynum[index], cmap='gray')"
   ]
  }
 ],
 "metadata": {
  "kernelspec": {
   "display_name": "Python 3",
   "language": "python",
   "name": "python3"
  },
  "language_info": {
   "codemirror_mode": {
    "name": "ipython",
    "version": 3
   },
   "file_extension": ".py",
   "mimetype": "text/x-python",
   "name": "python",
   "nbconvert_exporter": "python",
   "pygments_lexer": "ipython3",
   "version": "3.7.12"
  },
  "papermill": {
   "default_parameters": {},
   "duration": 1899.704868,
   "end_time": "2023-04-03T09:02:07.000172",
   "environment_variables": {},
   "exception": null,
   "input_path": "__notebook__.ipynb",
   "output_path": "__notebook__.ipynb",
   "parameters": {},
   "start_time": "2023-04-03T08:30:27.295304",
   "version": "2.4.0"
  }
 },
 "nbformat": 4,
 "nbformat_minor": 5
}
